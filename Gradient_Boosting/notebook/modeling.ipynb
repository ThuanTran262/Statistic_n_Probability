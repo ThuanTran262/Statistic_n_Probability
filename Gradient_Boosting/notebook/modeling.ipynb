{
 "cells": [
  {
   "cell_type": "code",
   "execution_count": 1,
   "id": "08ebb5c0-d789-4ea6-bf4a-33246518817e",
   "metadata": {},
   "outputs": [],
   "source": [
    "import pandas as pd\n",
    "import lightgbm as lgb\n",
    "from sklearn.model_selection import train_test_split\n",
    "from sklearn.metrics import roc_auc_score, confusion_matrix\n",
    "import matplotlib.pyplot as plt\n",
    "import numpy as np\n",
    "from sklearn.calibration import calibration_curve\n",
    "from sklearn.metrics import roc_auc_score, confusion_matrix, classification_report\n",
    "from scikitplot.metrics import plot_cumulative_gain, plot_lift_curve, cumulative_gain_curve\n",
    "import seaborn as sns"
   ]
  },
  {
   "cell_type": "markdown",
   "id": "75279020",
   "metadata": {},
   "source": [
    "Target: Predict customers who buy bancassurance"
   ]
  },
  {
   "cell_type": "code",
   "execution_count": 25,
   "id": "02b533a3-af54-4f65-bbda-1d4737714a98",
   "metadata": {
    "tags": []
   },
   "outputs": [
    {
     "data": {
      "text/html": [
       "<div>\n",
       "<style scoped>\n",
       "    .dataframe tbody tr th:only-of-type {\n",
       "        vertical-align: middle;\n",
       "    }\n",
       "\n",
       "    .dataframe tbody tr th {\n",
       "        vertical-align: top;\n",
       "    }\n",
       "\n",
       "    .dataframe thead th {\n",
       "        text-align: right;\n",
       "    }\n",
       "</style>\n",
       "<table border=\"1\" class=\"dataframe\">\n",
       "  <thead>\n",
       "    <tr style=\"text-align: right;\">\n",
       "      <th></th>\n",
       "      <th>CUSTOMER_NUMBER</th>\n",
       "      <th>CLIENT_SEX</th>\n",
       "      <th>AGE</th>\n",
       "      <th>STAFF_VIB</th>\n",
       "      <th>EB_REGISTER_CHANNEL</th>\n",
       "      <th>SMS</th>\n",
       "      <th>VERIFY_METHOD</th>\n",
       "      <th>TRANS_NO_MEAN</th>\n",
       "      <th>TRANS_NO_MAX</th>\n",
       "      <th>TRANS_NO_MIN</th>\n",
       "      <th>TRANS_NO_MEDIAN</th>\n",
       "      <th>TRANS_NO_SUM</th>\n",
       "      <th>TRANS_AMOUNT_MEAN</th>\n",
       "      <th>TRANS_AMOUNT_MAX</th>\n",
       "      <th>TRANS_AMOUNT_MIN</th>\n",
       "      <th>TRANS_AMOUNT_MEDIAN</th>\n",
       "      <th>TRANS_AMOUNT_SUM</th>\n",
       "      <th>TRANS_DAY_OF_WEEK</th>\n",
       "      <th>ACTIVITY_NO_MEAN</th>\n",
       "      <th>ACTIVITY_NO_MAX</th>\n",
       "      <th>ACTIVITY_MIN</th>\n",
       "      <th>ACTIVITY_MEDIAN</th>\n",
       "      <th>ACTIVITY_SUM</th>\n",
       "      <th>ACTI_DAY_OF_WEEK</th>\n",
       "      <th>COUNT_CA_ACCT_MEAN</th>\n",
       "      <th>COUNT_CA_ACCT_MAX</th>\n",
       "      <th>COUNT_CA_ACCT_MIN</th>\n",
       "      <th>COUNT_CA_ACCT_MEDIAN</th>\n",
       "      <th>COUNT_CA_ACCT_SUM</th>\n",
       "      <th>AVG_CA_BALANCE_MEAN</th>\n",
       "      <th>AVG_CA_BALANCE_MAX</th>\n",
       "      <th>AVG_CA_BALANCE_MIN</th>\n",
       "      <th>AVG_CA_BALANCE_MEDIAN</th>\n",
       "      <th>AVG_CA_BALANCE_SUM</th>\n",
       "      <th>COUNT_TD_ACCT_MEAN</th>\n",
       "      <th>COUNT_TD_ACCT_MAX</th>\n",
       "      <th>COUNT_TD_ACCT_MIN</th>\n",
       "      <th>COUNT_TD_ACCT_MEDIAN</th>\n",
       "      <th>COUNT_TD_ACCT_SUM</th>\n",
       "      <th>AVG_TD_BALANCE_MEAN</th>\n",
       "      <th>AVG_TD_BALANCE_MAX</th>\n",
       "      <th>AVG_TD_BALANCE_MIN</th>\n",
       "      <th>AVG_TD_BALANCE_MEDIAN</th>\n",
       "      <th>AVG_TD_BALANCE_SUM</th>\n",
       "      <th>COUNT_OF_LOAN_MEAN</th>\n",
       "      <th>COUNT_OF_LOAN_MAX</th>\n",
       "      <th>COUNT_OF_LOAN_MIN</th>\n",
       "      <th>COUNT_OF_LOAN_MEDIAN</th>\n",
       "      <th>COUNT_OF_LOAN_SUM</th>\n",
       "      <th>AVG_LOAN_AMOUNT_MEAN</th>\n",
       "      <th>AVG_LOAN_AMOUNT_MAX</th>\n",
       "      <th>AVG_LOAN_AMOUNT_MIN</th>\n",
       "      <th>AVG_LOAN_AMOUNT_MEDIAN</th>\n",
       "      <th>AVG_LOAN_AMOUNT_SUM</th>\n",
       "      <th>COUNT_CREDITCARD_MEAN</th>\n",
       "      <th>COUNT_CREDITCARD_MAX</th>\n",
       "      <th>COUNT_CREDITCARD_MIN</th>\n",
       "      <th>COUNT_CREDITCARD_MEDIAN</th>\n",
       "      <th>COUNT_CREDITCARD_SUM</th>\n",
       "      <th>COUNT_DEBITCARD_MEAN</th>\n",
       "      <th>COUNT_DEBITCARD_MAX</th>\n",
       "      <th>COUNT_DEBITCARD_MIN</th>\n",
       "      <th>COUNT_DEBITCARD_MEDIAN</th>\n",
       "      <th>COUNT_DEBITCARD_SUM</th>\n",
       "      <th>LABEL</th>\n",
       "    </tr>\n",
       "  </thead>\n",
       "  <tbody>\n",
       "    <tr>\n",
       "      <th>0</th>\n",
       "      <td>639362</td>\n",
       "      <td>M</td>\n",
       "      <td>23.0</td>\n",
       "      <td>N</td>\n",
       "      <td>BRANCH</td>\n",
       "      <td>Y</td>\n",
       "      <td>SMS</td>\n",
       "      <td>1.00000</td>\n",
       "      <td>1.0</td>\n",
       "      <td>1.0</td>\n",
       "      <td>1.0</td>\n",
       "      <td>13.0</td>\n",
       "      <td>1.633154e+06</td>\n",
       "      <td>10000000.0</td>\n",
       "      <td>20000.0</td>\n",
       "      <td>400000.0</td>\n",
       "      <td>21231000.0</td>\n",
       "      <td>Thu</td>\n",
       "      <td>1.373134</td>\n",
       "      <td>4.0</td>\n",
       "      <td>1.0</td>\n",
       "      <td>1.0</td>\n",
       "      <td>92.0</td>\n",
       "      <td>Thu</td>\n",
       "      <td>1.0</td>\n",
       "      <td>1.0</td>\n",
       "      <td>1.0</td>\n",
       "      <td>1.0</td>\n",
       "      <td>9.0</td>\n",
       "      <td>1.653585e+06</td>\n",
       "      <td>9371139.87</td>\n",
       "      <td>32600.00</td>\n",
       "      <td>99533.330</td>\n",
       "      <td>14882263.43</td>\n",
       "      <td>0.0</td>\n",
       "      <td>0.0</td>\n",
       "      <td>0.0</td>\n",
       "      <td>0.0</td>\n",
       "      <td>0.0</td>\n",
       "      <td>0.0</td>\n",
       "      <td>0.0</td>\n",
       "      <td>0.0</td>\n",
       "      <td>0.0</td>\n",
       "      <td>0.0</td>\n",
       "      <td>NaN</td>\n",
       "      <td>NaN</td>\n",
       "      <td>NaN</td>\n",
       "      <td>NaN</td>\n",
       "      <td>NaN</td>\n",
       "      <td>NaN</td>\n",
       "      <td>NaN</td>\n",
       "      <td>NaN</td>\n",
       "      <td>NaN</td>\n",
       "      <td>NaN</td>\n",
       "      <td>0.0</td>\n",
       "      <td>0.0</td>\n",
       "      <td>0.0</td>\n",
       "      <td>0.0</td>\n",
       "      <td>0.0</td>\n",
       "      <td>1.0</td>\n",
       "      <td>1.0</td>\n",
       "      <td>1.0</td>\n",
       "      <td>1.0</td>\n",
       "      <td>9.0</td>\n",
       "      <td>1</td>\n",
       "    </tr>\n",
       "    <tr>\n",
       "      <th>1</th>\n",
       "      <td>452440</td>\n",
       "      <td>M</td>\n",
       "      <td>20.0</td>\n",
       "      <td>N</td>\n",
       "      <td>BRANCH</td>\n",
       "      <td>Y</td>\n",
       "      <td>SMART_OTP</td>\n",
       "      <td>NaN</td>\n",
       "      <td>NaN</td>\n",
       "      <td>NaN</td>\n",
       "      <td>NaN</td>\n",
       "      <td>NaN</td>\n",
       "      <td>NaN</td>\n",
       "      <td>NaN</td>\n",
       "      <td>NaN</td>\n",
       "      <td>NaN</td>\n",
       "      <td>NaN</td>\n",
       "      <td>NaN</td>\n",
       "      <td>6.055556</td>\n",
       "      <td>56.0</td>\n",
       "      <td>1.0</td>\n",
       "      <td>2.0</td>\n",
       "      <td>327.0</td>\n",
       "      <td>Fri</td>\n",
       "      <td>1.0</td>\n",
       "      <td>1.0</td>\n",
       "      <td>1.0</td>\n",
       "      <td>1.0</td>\n",
       "      <td>12.0</td>\n",
       "      <td>1.336710e+05</td>\n",
       "      <td>188607.14</td>\n",
       "      <td>78645.16</td>\n",
       "      <td>134387.095</td>\n",
       "      <td>1604052.29</td>\n",
       "      <td>0.0</td>\n",
       "      <td>0.0</td>\n",
       "      <td>0.0</td>\n",
       "      <td>0.0</td>\n",
       "      <td>0.0</td>\n",
       "      <td>0.0</td>\n",
       "      <td>0.0</td>\n",
       "      <td>0.0</td>\n",
       "      <td>0.0</td>\n",
       "      <td>0.0</td>\n",
       "      <td>NaN</td>\n",
       "      <td>NaN</td>\n",
       "      <td>NaN</td>\n",
       "      <td>NaN</td>\n",
       "      <td>NaN</td>\n",
       "      <td>NaN</td>\n",
       "      <td>NaN</td>\n",
       "      <td>NaN</td>\n",
       "      <td>NaN</td>\n",
       "      <td>NaN</td>\n",
       "      <td>0.0</td>\n",
       "      <td>0.0</td>\n",
       "      <td>0.0</td>\n",
       "      <td>0.0</td>\n",
       "      <td>0.0</td>\n",
       "      <td>1.0</td>\n",
       "      <td>1.0</td>\n",
       "      <td>1.0</td>\n",
       "      <td>1.0</td>\n",
       "      <td>12.0</td>\n",
       "      <td>0</td>\n",
       "    </tr>\n",
       "    <tr>\n",
       "      <th>2</th>\n",
       "      <td>326290</td>\n",
       "      <td>F</td>\n",
       "      <td>23.0</td>\n",
       "      <td>N</td>\n",
       "      <td>BRANCH</td>\n",
       "      <td>Y</td>\n",
       "      <td>SMS</td>\n",
       "      <td>1.06383</td>\n",
       "      <td>2.0</td>\n",
       "      <td>1.0</td>\n",
       "      <td>1.0</td>\n",
       "      <td>50.0</td>\n",
       "      <td>1.846796e+06</td>\n",
       "      <td>15181000.0</td>\n",
       "      <td>10000.0</td>\n",
       "      <td>690000.0</td>\n",
       "      <td>86799392.0</td>\n",
       "      <td>Tue</td>\n",
       "      <td>1.733711</td>\n",
       "      <td>10.0</td>\n",
       "      <td>1.0</td>\n",
       "      <td>1.0</td>\n",
       "      <td>612.0</td>\n",
       "      <td>Tue</td>\n",
       "      <td>1.0</td>\n",
       "      <td>1.0</td>\n",
       "      <td>1.0</td>\n",
       "      <td>1.0</td>\n",
       "      <td>8.0</td>\n",
       "      <td>3.068100e+06</td>\n",
       "      <td>9961109.68</td>\n",
       "      <td>15774.19</td>\n",
       "      <td>2090890.075</td>\n",
       "      <td>24544797.28</td>\n",
       "      <td>0.0</td>\n",
       "      <td>0.0</td>\n",
       "      <td>0.0</td>\n",
       "      <td>0.0</td>\n",
       "      <td>0.0</td>\n",
       "      <td>0.0</td>\n",
       "      <td>0.0</td>\n",
       "      <td>0.0</td>\n",
       "      <td>0.0</td>\n",
       "      <td>0.0</td>\n",
       "      <td>NaN</td>\n",
       "      <td>NaN</td>\n",
       "      <td>NaN</td>\n",
       "      <td>NaN</td>\n",
       "      <td>NaN</td>\n",
       "      <td>NaN</td>\n",
       "      <td>NaN</td>\n",
       "      <td>NaN</td>\n",
       "      <td>NaN</td>\n",
       "      <td>NaN</td>\n",
       "      <td>0.0</td>\n",
       "      <td>0.0</td>\n",
       "      <td>0.0</td>\n",
       "      <td>0.0</td>\n",
       "      <td>0.0</td>\n",
       "      <td>1.0</td>\n",
       "      <td>1.0</td>\n",
       "      <td>1.0</td>\n",
       "      <td>1.0</td>\n",
       "      <td>8.0</td>\n",
       "      <td>1</td>\n",
       "    </tr>\n",
       "    <tr>\n",
       "      <th>3</th>\n",
       "      <td>20802</td>\n",
       "      <td>M</td>\n",
       "      <td>27.0</td>\n",
       "      <td>N</td>\n",
       "      <td>BRANCH</td>\n",
       "      <td>Y</td>\n",
       "      <td>SMART_OTP</td>\n",
       "      <td>NaN</td>\n",
       "      <td>NaN</td>\n",
       "      <td>NaN</td>\n",
       "      <td>NaN</td>\n",
       "      <td>NaN</td>\n",
       "      <td>NaN</td>\n",
       "      <td>NaN</td>\n",
       "      <td>NaN</td>\n",
       "      <td>NaN</td>\n",
       "      <td>NaN</td>\n",
       "      <td>NaN</td>\n",
       "      <td>NaN</td>\n",
       "      <td>NaN</td>\n",
       "      <td>NaN</td>\n",
       "      <td>NaN</td>\n",
       "      <td>NaN</td>\n",
       "      <td>NaN</td>\n",
       "      <td>NaN</td>\n",
       "      <td>NaN</td>\n",
       "      <td>NaN</td>\n",
       "      <td>NaN</td>\n",
       "      <td>NaN</td>\n",
       "      <td>NaN</td>\n",
       "      <td>NaN</td>\n",
       "      <td>NaN</td>\n",
       "      <td>NaN</td>\n",
       "      <td>NaN</td>\n",
       "      <td>NaN</td>\n",
       "      <td>NaN</td>\n",
       "      <td>NaN</td>\n",
       "      <td>NaN</td>\n",
       "      <td>NaN</td>\n",
       "      <td>NaN</td>\n",
       "      <td>NaN</td>\n",
       "      <td>NaN</td>\n",
       "      <td>NaN</td>\n",
       "      <td>NaN</td>\n",
       "      <td>NaN</td>\n",
       "      <td>NaN</td>\n",
       "      <td>NaN</td>\n",
       "      <td>NaN</td>\n",
       "      <td>NaN</td>\n",
       "      <td>NaN</td>\n",
       "      <td>NaN</td>\n",
       "      <td>NaN</td>\n",
       "      <td>NaN</td>\n",
       "      <td>NaN</td>\n",
       "      <td>0.0</td>\n",
       "      <td>0.0</td>\n",
       "      <td>0.0</td>\n",
       "      <td>0.0</td>\n",
       "      <td>0.0</td>\n",
       "      <td>1.0</td>\n",
       "      <td>1.0</td>\n",
       "      <td>1.0</td>\n",
       "      <td>1.0</td>\n",
       "      <td>2.0</td>\n",
       "      <td>0</td>\n",
       "    </tr>\n",
       "    <tr>\n",
       "      <th>4</th>\n",
       "      <td>114244</td>\n",
       "      <td>M</td>\n",
       "      <td>46.0</td>\n",
       "      <td>N</td>\n",
       "      <td>BRANCH</td>\n",
       "      <td>N</td>\n",
       "      <td>SMS</td>\n",
       "      <td>NaN</td>\n",
       "      <td>NaN</td>\n",
       "      <td>NaN</td>\n",
       "      <td>NaN</td>\n",
       "      <td>NaN</td>\n",
       "      <td>NaN</td>\n",
       "      <td>NaN</td>\n",
       "      <td>NaN</td>\n",
       "      <td>NaN</td>\n",
       "      <td>NaN</td>\n",
       "      <td>NaN</td>\n",
       "      <td>NaN</td>\n",
       "      <td>NaN</td>\n",
       "      <td>NaN</td>\n",
       "      <td>NaN</td>\n",
       "      <td>NaN</td>\n",
       "      <td>NaN</td>\n",
       "      <td>1.0</td>\n",
       "      <td>1.0</td>\n",
       "      <td>1.0</td>\n",
       "      <td>1.0</td>\n",
       "      <td>10.0</td>\n",
       "      <td>1.971582e+05</td>\n",
       "      <td>226368.00</td>\n",
       "      <td>12903.23</td>\n",
       "      <td>226368.000</td>\n",
       "      <td>1971581.98</td>\n",
       "      <td>0.0</td>\n",
       "      <td>0.0</td>\n",
       "      <td>0.0</td>\n",
       "      <td>0.0</td>\n",
       "      <td>0.0</td>\n",
       "      <td>0.0</td>\n",
       "      <td>0.0</td>\n",
       "      <td>0.0</td>\n",
       "      <td>0.0</td>\n",
       "      <td>0.0</td>\n",
       "      <td>1.0</td>\n",
       "      <td>1.0</td>\n",
       "      <td>1.0</td>\n",
       "      <td>1.0</td>\n",
       "      <td>4.0</td>\n",
       "      <td>295312500.0</td>\n",
       "      <td>300000000.0</td>\n",
       "      <td>290625000.0</td>\n",
       "      <td>295312500.0</td>\n",
       "      <td>1.181250e+09</td>\n",
       "      <td>NaN</td>\n",
       "      <td>NaN</td>\n",
       "      <td>NaN</td>\n",
       "      <td>NaN</td>\n",
       "      <td>NaN</td>\n",
       "      <td>NaN</td>\n",
       "      <td>NaN</td>\n",
       "      <td>NaN</td>\n",
       "      <td>NaN</td>\n",
       "      <td>NaN</td>\n",
       "      <td>0</td>\n",
       "    </tr>\n",
       "  </tbody>\n",
       "</table>\n",
       "</div>"
      ],
      "text/plain": [
       "   CUSTOMER_NUMBER CLIENT_SEX   AGE STAFF_VIB EB_REGISTER_CHANNEL SMS  \\\n",
       "0           639362          M  23.0         N              BRANCH   Y   \n",
       "1           452440          M  20.0         N              BRANCH   Y   \n",
       "2           326290          F  23.0         N              BRANCH   Y   \n",
       "3            20802          M  27.0         N              BRANCH   Y   \n",
       "4           114244          M  46.0         N              BRANCH   N   \n",
       "\n",
       "  VERIFY_METHOD  TRANS_NO_MEAN  TRANS_NO_MAX  TRANS_NO_MIN  TRANS_NO_MEDIAN  \\\n",
       "0           SMS        1.00000           1.0           1.0              1.0   \n",
       "1     SMART_OTP            NaN           NaN           NaN              NaN   \n",
       "2           SMS        1.06383           2.0           1.0              1.0   \n",
       "3     SMART_OTP            NaN           NaN           NaN              NaN   \n",
       "4           SMS            NaN           NaN           NaN              NaN   \n",
       "\n",
       "   TRANS_NO_SUM  TRANS_AMOUNT_MEAN  TRANS_AMOUNT_MAX  TRANS_AMOUNT_MIN  \\\n",
       "0          13.0       1.633154e+06        10000000.0           20000.0   \n",
       "1           NaN                NaN               NaN               NaN   \n",
       "2          50.0       1.846796e+06        15181000.0           10000.0   \n",
       "3           NaN                NaN               NaN               NaN   \n",
       "4           NaN                NaN               NaN               NaN   \n",
       "\n",
       "   TRANS_AMOUNT_MEDIAN  TRANS_AMOUNT_SUM TRANS_DAY_OF_WEEK  ACTIVITY_NO_MEAN  \\\n",
       "0             400000.0        21231000.0               Thu          1.373134   \n",
       "1                  NaN               NaN               NaN          6.055556   \n",
       "2             690000.0        86799392.0               Tue          1.733711   \n",
       "3                  NaN               NaN               NaN               NaN   \n",
       "4                  NaN               NaN               NaN               NaN   \n",
       "\n",
       "   ACTIVITY_NO_MAX  ACTIVITY_MIN  ACTIVITY_MEDIAN  ACTIVITY_SUM  \\\n",
       "0              4.0           1.0              1.0          92.0   \n",
       "1             56.0           1.0              2.0         327.0   \n",
       "2             10.0           1.0              1.0         612.0   \n",
       "3              NaN           NaN              NaN           NaN   \n",
       "4              NaN           NaN              NaN           NaN   \n",
       "\n",
       "  ACTI_DAY_OF_WEEK  COUNT_CA_ACCT_MEAN  COUNT_CA_ACCT_MAX  COUNT_CA_ACCT_MIN  \\\n",
       "0              Thu                 1.0                1.0                1.0   \n",
       "1              Fri                 1.0                1.0                1.0   \n",
       "2              Tue                 1.0                1.0                1.0   \n",
       "3              NaN                 NaN                NaN                NaN   \n",
       "4              NaN                 1.0                1.0                1.0   \n",
       "\n",
       "   COUNT_CA_ACCT_MEDIAN  COUNT_CA_ACCT_SUM  AVG_CA_BALANCE_MEAN  \\\n",
       "0                   1.0                9.0         1.653585e+06   \n",
       "1                   1.0               12.0         1.336710e+05   \n",
       "2                   1.0                8.0         3.068100e+06   \n",
       "3                   NaN                NaN                  NaN   \n",
       "4                   1.0               10.0         1.971582e+05   \n",
       "\n",
       "   AVG_CA_BALANCE_MAX  AVG_CA_BALANCE_MIN  AVG_CA_BALANCE_MEDIAN  \\\n",
       "0          9371139.87            32600.00              99533.330   \n",
       "1           188607.14            78645.16             134387.095   \n",
       "2          9961109.68            15774.19            2090890.075   \n",
       "3                 NaN                 NaN                    NaN   \n",
       "4           226368.00            12903.23             226368.000   \n",
       "\n",
       "   AVG_CA_BALANCE_SUM  COUNT_TD_ACCT_MEAN  COUNT_TD_ACCT_MAX  \\\n",
       "0         14882263.43                 0.0                0.0   \n",
       "1          1604052.29                 0.0                0.0   \n",
       "2         24544797.28                 0.0                0.0   \n",
       "3                 NaN                 NaN                NaN   \n",
       "4          1971581.98                 0.0                0.0   \n",
       "\n",
       "   COUNT_TD_ACCT_MIN  COUNT_TD_ACCT_MEDIAN  COUNT_TD_ACCT_SUM  \\\n",
       "0                0.0                   0.0                0.0   \n",
       "1                0.0                   0.0                0.0   \n",
       "2                0.0                   0.0                0.0   \n",
       "3                NaN                   NaN                NaN   \n",
       "4                0.0                   0.0                0.0   \n",
       "\n",
       "   AVG_TD_BALANCE_MEAN  AVG_TD_BALANCE_MAX  AVG_TD_BALANCE_MIN  \\\n",
       "0                  0.0                 0.0                 0.0   \n",
       "1                  0.0                 0.0                 0.0   \n",
       "2                  0.0                 0.0                 0.0   \n",
       "3                  NaN                 NaN                 NaN   \n",
       "4                  0.0                 0.0                 0.0   \n",
       "\n",
       "   AVG_TD_BALANCE_MEDIAN  AVG_TD_BALANCE_SUM  COUNT_OF_LOAN_MEAN  \\\n",
       "0                    0.0                 0.0                 NaN   \n",
       "1                    0.0                 0.0                 NaN   \n",
       "2                    0.0                 0.0                 NaN   \n",
       "3                    NaN                 NaN                 NaN   \n",
       "4                    0.0                 0.0                 1.0   \n",
       "\n",
       "   COUNT_OF_LOAN_MAX  COUNT_OF_LOAN_MIN  COUNT_OF_LOAN_MEDIAN  \\\n",
       "0                NaN                NaN                   NaN   \n",
       "1                NaN                NaN                   NaN   \n",
       "2                NaN                NaN                   NaN   \n",
       "3                NaN                NaN                   NaN   \n",
       "4                1.0                1.0                   1.0   \n",
       "\n",
       "   COUNT_OF_LOAN_SUM  AVG_LOAN_AMOUNT_MEAN  AVG_LOAN_AMOUNT_MAX  \\\n",
       "0                NaN                   NaN                  NaN   \n",
       "1                NaN                   NaN                  NaN   \n",
       "2                NaN                   NaN                  NaN   \n",
       "3                NaN                   NaN                  NaN   \n",
       "4                4.0           295312500.0          300000000.0   \n",
       "\n",
       "   AVG_LOAN_AMOUNT_MIN  AVG_LOAN_AMOUNT_MEDIAN  AVG_LOAN_AMOUNT_SUM  \\\n",
       "0                  NaN                     NaN                  NaN   \n",
       "1                  NaN                     NaN                  NaN   \n",
       "2                  NaN                     NaN                  NaN   \n",
       "3                  NaN                     NaN                  NaN   \n",
       "4          290625000.0             295312500.0         1.181250e+09   \n",
       "\n",
       "   COUNT_CREDITCARD_MEAN  COUNT_CREDITCARD_MAX  COUNT_CREDITCARD_MIN  \\\n",
       "0                    0.0                   0.0                   0.0   \n",
       "1                    0.0                   0.0                   0.0   \n",
       "2                    0.0                   0.0                   0.0   \n",
       "3                    0.0                   0.0                   0.0   \n",
       "4                    NaN                   NaN                   NaN   \n",
       "\n",
       "   COUNT_CREDITCARD_MEDIAN  COUNT_CREDITCARD_SUM  COUNT_DEBITCARD_MEAN  \\\n",
       "0                      0.0                   0.0                   1.0   \n",
       "1                      0.0                   0.0                   1.0   \n",
       "2                      0.0                   0.0                   1.0   \n",
       "3                      0.0                   0.0                   1.0   \n",
       "4                      NaN                   NaN                   NaN   \n",
       "\n",
       "   COUNT_DEBITCARD_MAX  COUNT_DEBITCARD_MIN  COUNT_DEBITCARD_MEDIAN  \\\n",
       "0                  1.0                  1.0                     1.0   \n",
       "1                  1.0                  1.0                     1.0   \n",
       "2                  1.0                  1.0                     1.0   \n",
       "3                  1.0                  1.0                     1.0   \n",
       "4                  NaN                  NaN                     NaN   \n",
       "\n",
       "   COUNT_DEBITCARD_SUM  LABEL  \n",
       "0                  9.0      1  \n",
       "1                 12.0      0  \n",
       "2                  8.0      1  \n",
       "3                  2.0      0  \n",
       "4                  NaN      0  "
      ]
     },
     "execution_count": 25,
     "metadata": {},
     "output_type": "execute_result"
    }
   ],
   "source": [
    "data = pd.read_csv('data_true.csv')\n",
    "pd.options.display.max_columns=70\n",
    "data.head()"
   ]
  },
  {
   "cell_type": "code",
   "execution_count": null,
   "id": "64b4f9b0-1bb5-44a4-ba76-7e27124b9d49",
   "metadata": {},
   "outputs": [
    {
     "data": {
      "text/plain": [
       "<matplotlib.legend.Legend at 0x143913a8248>"
      ]
     },
     "execution_count": 9,
     "metadata": {},
     "output_type": "execute_result"
    },
    {
     "data": {
      "image/png": "[encoded data removed]",
      "text/plain": [
       "<Figure size 720x432 with 1 Axes>"
      ]
     },
     "metadata": {},
     "output_type": "display_data"
    }
   ],
   "source": [
    "data.LABEL.value_counts().plot.pie(autopct='%.2f%%', labels=None, figsize=(10,6))\n",
    "plt.legend(['Không mua', 'Có mua'])"
   ]
  },
  {
   "cell_type": "code",
   "execution_count": 91,
   "id": "e727d707-04ed-4e3f-b138-de43ed23cbf3",
   "metadata": {},
   "outputs": [
    {
     "data": {
      "text/plain": [
       "(290223, 65)"
      ]
     },
     "execution_count": 91,
     "metadata": {},
     "output_type": "execute_result"
    }
   ],
   "source": [
    "data.shape"
   ]
  },
  {
   "cell_type": "code",
   "execution_count": 92,
   "id": "9976d9e6-a786-4cf4-9df9-fc46d55c15e0",
   "metadata": {},
   "outputs": [
    {
     "data": {
      "text/plain": [
       "Index(['CUSTOMER_NUMBER', 'CLIENT_SEX', 'AGE', 'STAFF_VIB',\n",
       "       'EB_REGISTER_CHANNEL', 'SMS', 'VERIFY_METHOD', 'TRANS_NO_MEAN',\n",
       "       'TRANS_NO_MAX', 'TRANS_NO_MIN', 'TRANS_NO_MEDIAN', 'TRANS_NO_SUM',\n",
       "       'TRANS_AMOUNT_MEAN', 'TRANS_AMOUNT_MAX', 'TRANS_AMOUNT_MIN',\n",
       "       'TRANS_AMOUNT_MEDIAN', 'TRANS_AMOUNT_SUM', 'TRANS_DAY_OF_WEEK',\n",
       "       'ACTIVITY_NO_MEAN', 'ACTIVITY_NO_MAX', 'ACTIVITY_MIN',\n",
       "       'ACTIVITY_MEDIAN', 'ACTIVITY_SUM', 'ACTI_DAY_OF_WEEK',\n",
       "       'COUNT_CA_ACCT_MEAN', 'COUNT_CA_ACCT_MAX', 'COUNT_CA_ACCT_MIN',\n",
       "       'COUNT_CA_ACCT_MEDIAN', 'COUNT_CA_ACCT_SUM', 'AVG_CA_BALANCE_MEAN',\n",
       "       'AVG_CA_BALANCE_MAX', 'AVG_CA_BALANCE_MIN', 'AVG_CA_BALANCE_MEDIAN',\n",
       "       'AVG_CA_BALANCE_SUM', 'COUNT_TD_ACCT_MEAN', 'COUNT_TD_ACCT_MAX',\n",
       "       'COUNT_TD_ACCT_MIN', 'COUNT_TD_ACCT_MEDIAN', 'COUNT_TD_ACCT_SUM',\n",
       "       'AVG_TD_BALANCE_MEAN', 'AVG_TD_BALANCE_MAX', 'AVG_TD_BALANCE_MIN',\n",
       "       'AVG_TD_BALANCE_MEDIAN', 'AVG_TD_BALANCE_SUM', 'COUNT_OF_LOAN_MEAN',\n",
       "       'COUNT_OF_LOAN_MAX', 'COUNT_OF_LOAN_MIN', 'COUNT_OF_LOAN_MEDIAN',\n",
       "       'COUNT_OF_LOAN_SUM', 'AVG_LOAN_AMOUNT_MEAN', 'AVG_LOAN_AMOUNT_MAX',\n",
       "       'AVG_LOAN_AMOUNT_MIN', 'AVG_LOAN_AMOUNT_MEDIAN', 'AVG_LOAN_AMOUNT_SUM',\n",
       "       'COUNT_CREDITCARD_MEAN', 'COUNT_CREDITCARD_MAX', 'COUNT_CREDITCARD_MIN',\n",
       "       'COUNT_CREDITCARD_MEDIAN', 'COUNT_CREDITCARD_SUM',\n",
       "       'COUNT_DEBITCARD_MEAN', 'COUNT_DEBITCARD_MAX', 'COUNT_DEBITCARD_MIN',\n",
       "       'COUNT_DEBITCARD_MEDIAN', 'COUNT_DEBITCARD_SUM', 'LABEL'],\n",
       "      dtype='object')"
      ]
     },
     "execution_count": 92,
     "metadata": {},
     "output_type": "execute_result"
    }
   ],
   "source": [
    "data.columns"
   ]
  },
  {
   "cell_type": "code",
   "execution_count": 93,
   "id": "428f6463-57a6-42a5-913a-0c65479d0e23",
   "metadata": {},
   "outputs": [
    {
     "data": {
      "text/html": [
       "<div>\n",
       "<style scoped>\n",
       "    .dataframe tbody tr th:only-of-type {\n",
       "        vertical-align: middle;\n",
       "    }\n",
       "\n",
       "    .dataframe tbody tr th {\n",
       "        vertical-align: top;\n",
       "    }\n",
       "\n",
       "    .dataframe thead th {\n",
       "        text-align: right;\n",
       "    }\n",
       "</style>\n",
       "<table border=\"1\" class=\"dataframe\">\n",
       "  <thead>\n",
       "    <tr style=\"text-align: right;\">\n",
       "      <th></th>\n",
       "      <th>CUSTOMER_NUMBER</th>\n",
       "      <th>CLIENT_SEX</th>\n",
       "      <th>AGE</th>\n",
       "      <th>STAFF_VIB</th>\n",
       "      <th>EB_REGISTER_CHANNEL</th>\n",
       "      <th>SMS</th>\n",
       "      <th>VERIFY_METHOD</th>\n",
       "      <th>TRANS_NO_MEAN</th>\n",
       "      <th>TRANS_NO_MAX</th>\n",
       "      <th>TRANS_NO_MIN</th>\n",
       "      <th>...</th>\n",
       "      <th>COUNT_CREDITCARD_MAX</th>\n",
       "      <th>COUNT_CREDITCARD_MIN</th>\n",
       "      <th>COUNT_CREDITCARD_MEDIAN</th>\n",
       "      <th>COUNT_CREDITCARD_SUM</th>\n",
       "      <th>COUNT_DEBITCARD_MEAN</th>\n",
       "      <th>COUNT_DEBITCARD_MAX</th>\n",
       "      <th>COUNT_DEBITCARD_MIN</th>\n",
       "      <th>COUNT_DEBITCARD_MEDIAN</th>\n",
       "      <th>COUNT_DEBITCARD_SUM</th>\n",
       "      <th>LABEL</th>\n",
       "    </tr>\n",
       "  </thead>\n",
       "  <tbody>\n",
       "    <tr>\n",
       "      <th>0</th>\n",
       "      <td>639362</td>\n",
       "      <td>M</td>\n",
       "      <td>23.0</td>\n",
       "      <td>N</td>\n",
       "      <td>BRANCH</td>\n",
       "      <td>Y</td>\n",
       "      <td>SMS</td>\n",
       "      <td>1.00000</td>\n",
       "      <td>1.0</td>\n",
       "      <td>1.0</td>\n",
       "      <td>...</td>\n",
       "      <td>0.0</td>\n",
       "      <td>0.0</td>\n",
       "      <td>0.0</td>\n",
       "      <td>0.0</td>\n",
       "      <td>1.0</td>\n",
       "      <td>1.0</td>\n",
       "      <td>1.0</td>\n",
       "      <td>1.0</td>\n",
       "      <td>9.0</td>\n",
       "      <td>1</td>\n",
       "    </tr>\n",
       "    <tr>\n",
       "      <th>1</th>\n",
       "      <td>452440</td>\n",
       "      <td>M</td>\n",
       "      <td>20.0</td>\n",
       "      <td>N</td>\n",
       "      <td>BRANCH</td>\n",
       "      <td>Y</td>\n",
       "      <td>SMART_OTP</td>\n",
       "      <td>NaN</td>\n",
       "      <td>NaN</td>\n",
       "      <td>NaN</td>\n",
       "      <td>...</td>\n",
       "      <td>0.0</td>\n",
       "      <td>0.0</td>\n",
       "      <td>0.0</td>\n",
       "      <td>0.0</td>\n",
       "      <td>1.0</td>\n",
       "      <td>1.0</td>\n",
       "      <td>1.0</td>\n",
       "      <td>1.0</td>\n",
       "      <td>12.0</td>\n",
       "      <td>0</td>\n",
       "    </tr>\n",
       "    <tr>\n",
       "      <th>2</th>\n",
       "      <td>326290</td>\n",
       "      <td>F</td>\n",
       "      <td>23.0</td>\n",
       "      <td>N</td>\n",
       "      <td>BRANCH</td>\n",
       "      <td>Y</td>\n",
       "      <td>SMS</td>\n",
       "      <td>1.06383</td>\n",
       "      <td>2.0</td>\n",
       "      <td>1.0</td>\n",
       "      <td>...</td>\n",
       "      <td>0.0</td>\n",
       "      <td>0.0</td>\n",
       "      <td>0.0</td>\n",
       "      <td>0.0</td>\n",
       "      <td>1.0</td>\n",
       "      <td>1.0</td>\n",
       "      <td>1.0</td>\n",
       "      <td>1.0</td>\n",
       "      <td>8.0</td>\n",
       "      <td>1</td>\n",
       "    </tr>\n",
       "    <tr>\n",
       "      <th>3</th>\n",
       "      <td>20802</td>\n",
       "      <td>M</td>\n",
       "      <td>27.0</td>\n",
       "      <td>N</td>\n",
       "      <td>BRANCH</td>\n",
       "      <td>Y</td>\n",
       "      <td>SMART_OTP</td>\n",
       "      <td>NaN</td>\n",
       "      <td>NaN</td>\n",
       "      <td>NaN</td>\n",
       "      <td>...</td>\n",
       "      <td>0.0</td>\n",
       "      <td>0.0</td>\n",
       "      <td>0.0</td>\n",
       "      <td>0.0</td>\n",
       "      <td>1.0</td>\n",
       "      <td>1.0</td>\n",
       "      <td>1.0</td>\n",
       "      <td>1.0</td>\n",
       "      <td>2.0</td>\n",
       "      <td>0</td>\n",
       "    </tr>\n",
       "    <tr>\n",
       "      <th>4</th>\n",
       "      <td>114244</td>\n",
       "      <td>M</td>\n",
       "      <td>46.0</td>\n",
       "      <td>N</td>\n",
       "      <td>BRANCH</td>\n",
       "      <td>N</td>\n",
       "      <td>SMS</td>\n",
       "      <td>NaN</td>\n",
       "      <td>NaN</td>\n",
       "      <td>NaN</td>\n",
       "      <td>...</td>\n",
       "      <td>NaN</td>\n",
       "      <td>NaN</td>\n",
       "      <td>NaN</td>\n",
       "      <td>NaN</td>\n",
       "      <td>NaN</td>\n",
       "      <td>NaN</td>\n",
       "      <td>NaN</td>\n",
       "      <td>NaN</td>\n",
       "      <td>NaN</td>\n",
       "      <td>0</td>\n",
       "    </tr>\n",
       "    <tr>\n",
       "      <th>...</th>\n",
       "      <td>...</td>\n",
       "      <td>...</td>\n",
       "      <td>...</td>\n",
       "      <td>...</td>\n",
       "      <td>...</td>\n",
       "      <td>...</td>\n",
       "      <td>...</td>\n",
       "      <td>...</td>\n",
       "      <td>...</td>\n",
       "      <td>...</td>\n",
       "      <td>...</td>\n",
       "      <td>...</td>\n",
       "      <td>...</td>\n",
       "      <td>...</td>\n",
       "      <td>...</td>\n",
       "      <td>...</td>\n",
       "      <td>...</td>\n",
       "      <td>...</td>\n",
       "      <td>...</td>\n",
       "      <td>...</td>\n",
       "      <td>...</td>\n",
       "    </tr>\n",
       "    <tr>\n",
       "      <th>290218</th>\n",
       "      <td>174454</td>\n",
       "      <td>F</td>\n",
       "      <td>22.0</td>\n",
       "      <td>N</td>\n",
       "      <td>NaN</td>\n",
       "      <td>NaN</td>\n",
       "      <td>NaN</td>\n",
       "      <td>NaN</td>\n",
       "      <td>NaN</td>\n",
       "      <td>NaN</td>\n",
       "      <td>...</td>\n",
       "      <td>NaN</td>\n",
       "      <td>NaN</td>\n",
       "      <td>NaN</td>\n",
       "      <td>NaN</td>\n",
       "      <td>NaN</td>\n",
       "      <td>NaN</td>\n",
       "      <td>NaN</td>\n",
       "      <td>NaN</td>\n",
       "      <td>NaN</td>\n",
       "      <td>0</td>\n",
       "    </tr>\n",
       "    <tr>\n",
       "      <th>290219</th>\n",
       "      <td>195828</td>\n",
       "      <td>F</td>\n",
       "      <td>20.0</td>\n",
       "      <td>N</td>\n",
       "      <td>NaN</td>\n",
       "      <td>NaN</td>\n",
       "      <td>NaN</td>\n",
       "      <td>NaN</td>\n",
       "      <td>NaN</td>\n",
       "      <td>NaN</td>\n",
       "      <td>...</td>\n",
       "      <td>NaN</td>\n",
       "      <td>NaN</td>\n",
       "      <td>NaN</td>\n",
       "      <td>NaN</td>\n",
       "      <td>NaN</td>\n",
       "      <td>NaN</td>\n",
       "      <td>NaN</td>\n",
       "      <td>NaN</td>\n",
       "      <td>NaN</td>\n",
       "      <td>1</td>\n",
       "    </tr>\n",
       "    <tr>\n",
       "      <th>290220</th>\n",
       "      <td>234465</td>\n",
       "      <td>M</td>\n",
       "      <td>45.0</td>\n",
       "      <td>N</td>\n",
       "      <td>NaN</td>\n",
       "      <td>NaN</td>\n",
       "      <td>NaN</td>\n",
       "      <td>NaN</td>\n",
       "      <td>NaN</td>\n",
       "      <td>NaN</td>\n",
       "      <td>...</td>\n",
       "      <td>NaN</td>\n",
       "      <td>NaN</td>\n",
       "      <td>NaN</td>\n",
       "      <td>NaN</td>\n",
       "      <td>NaN</td>\n",
       "      <td>NaN</td>\n",
       "      <td>NaN</td>\n",
       "      <td>NaN</td>\n",
       "      <td>NaN</td>\n",
       "      <td>0</td>\n",
       "    </tr>\n",
       "    <tr>\n",
       "      <th>290221</th>\n",
       "      <td>119456</td>\n",
       "      <td>M</td>\n",
       "      <td>24.0</td>\n",
       "      <td>N</td>\n",
       "      <td>NaN</td>\n",
       "      <td>NaN</td>\n",
       "      <td>NaN</td>\n",
       "      <td>NaN</td>\n",
       "      <td>NaN</td>\n",
       "      <td>NaN</td>\n",
       "      <td>...</td>\n",
       "      <td>0.0</td>\n",
       "      <td>0.0</td>\n",
       "      <td>0.0</td>\n",
       "      <td>0.0</td>\n",
       "      <td>1.0</td>\n",
       "      <td>1.0</td>\n",
       "      <td>1.0</td>\n",
       "      <td>1.0</td>\n",
       "      <td>9.0</td>\n",
       "      <td>0</td>\n",
       "    </tr>\n",
       "    <tr>\n",
       "      <th>290222</th>\n",
       "      <td>590903</td>\n",
       "      <td>M</td>\n",
       "      <td>21.0</td>\n",
       "      <td>N</td>\n",
       "      <td>NaN</td>\n",
       "      <td>NaN</td>\n",
       "      <td>NaN</td>\n",
       "      <td>NaN</td>\n",
       "      <td>NaN</td>\n",
       "      <td>NaN</td>\n",
       "      <td>...</td>\n",
       "      <td>0.0</td>\n",
       "      <td>0.0</td>\n",
       "      <td>0.0</td>\n",
       "      <td>0.0</td>\n",
       "      <td>1.0</td>\n",
       "      <td>1.0</td>\n",
       "      <td>1.0</td>\n",
       "      <td>1.0</td>\n",
       "      <td>6.0</td>\n",
       "      <td>0</td>\n",
       "    </tr>\n",
       "  </tbody>\n",
       "</table>\n",
       "<p>290223 rows × 65 columns</p>\n",
       "</div>"
      ],
      "text/plain": [
       "        CUSTOMER_NUMBER CLIENT_SEX   AGE STAFF_VIB EB_REGISTER_CHANNEL  SMS  \\\n",
       "0                639362          M  23.0         N              BRANCH    Y   \n",
       "1                452440          M  20.0         N              BRANCH    Y   \n",
       "2                326290          F  23.0         N              BRANCH    Y   \n",
       "3                 20802          M  27.0         N              BRANCH    Y   \n",
       "4                114244          M  46.0         N              BRANCH    N   \n",
       "...                 ...        ...   ...       ...                 ...  ...   \n",
       "290218           174454          F  22.0         N                 NaN  NaN   \n",
       "290219           195828          F  20.0         N                 NaN  NaN   \n",
       "290220           234465          M  45.0         N                 NaN  NaN   \n",
       "290221           119456          M  24.0         N                 NaN  NaN   \n",
       "290222           590903          M  21.0         N                 NaN  NaN   \n",
       "\n",
       "       VERIFY_METHOD  TRANS_NO_MEAN  TRANS_NO_MAX  TRANS_NO_MIN  ...  \\\n",
       "0                SMS        1.00000           1.0           1.0  ...   \n",
       "1          SMART_OTP            NaN           NaN           NaN  ...   \n",
       "2                SMS        1.06383           2.0           1.0  ...   \n",
       "3          SMART_OTP            NaN           NaN           NaN  ...   \n",
       "4                SMS            NaN           NaN           NaN  ...   \n",
       "...              ...            ...           ...           ...  ...   \n",
       "290218           NaN            NaN           NaN           NaN  ...   \n",
       "290219           NaN            NaN           NaN           NaN  ...   \n",
       "290220           NaN            NaN           NaN           NaN  ...   \n",
       "290221           NaN            NaN           NaN           NaN  ...   \n",
       "290222           NaN            NaN           NaN           NaN  ...   \n",
       "\n",
       "        COUNT_CREDITCARD_MAX  COUNT_CREDITCARD_MIN  COUNT_CREDITCARD_MEDIAN  \\\n",
       "0                        0.0                   0.0                      0.0   \n",
       "1                        0.0                   0.0                      0.0   \n",
       "2                        0.0                   0.0                      0.0   \n",
       "3                        0.0                   0.0                      0.0   \n",
       "4                        NaN                   NaN                      NaN   \n",
       "...                      ...                   ...                      ...   \n",
       "290218                   NaN                   NaN                      NaN   \n",
       "290219                   NaN                   NaN                      NaN   \n",
       "290220                   NaN                   NaN                      NaN   \n",
       "290221                   0.0                   0.0                      0.0   \n",
       "290222                   0.0                   0.0                      0.0   \n",
       "\n",
       "        COUNT_CREDITCARD_SUM  COUNT_DEBITCARD_MEAN  COUNT_DEBITCARD_MAX  \\\n",
       "0                        0.0                   1.0                  1.0   \n",
       "1                        0.0                   1.0                  1.0   \n",
       "2                        0.0                   1.0                  1.0   \n",
       "3                        0.0                   1.0                  1.0   \n",
       "4                        NaN                   NaN                  NaN   \n",
       "...                      ...                   ...                  ...   \n",
       "290218                   NaN                   NaN                  NaN   \n",
       "290219                   NaN                   NaN                  NaN   \n",
       "290220                   NaN                   NaN                  NaN   \n",
       "290221                   0.0                   1.0                  1.0   \n",
       "290222                   0.0                   1.0                  1.0   \n",
       "\n",
       "        COUNT_DEBITCARD_MIN COUNT_DEBITCARD_MEDIAN  COUNT_DEBITCARD_SUM  LABEL  \n",
       "0                       1.0                    1.0                  9.0      1  \n",
       "1                       1.0                    1.0                 12.0      0  \n",
       "2                       1.0                    1.0                  8.0      1  \n",
       "3                       1.0                    1.0                  2.0      0  \n",
       "4                       NaN                    NaN                  NaN      0  \n",
       "...                     ...                    ...                  ...    ...  \n",
       "290218                  NaN                    NaN                  NaN      0  \n",
       "290219                  NaN                    NaN                  NaN      1  \n",
       "290220                  NaN                    NaN                  NaN      0  \n",
       "290221                  1.0                    1.0                  9.0      0  \n",
       "290222                  1.0                    1.0                  6.0      0  \n",
       "\n",
       "[290223 rows x 65 columns]"
      ]
     },
     "execution_count": 93,
     "metadata": {},
     "output_type": "execute_result"
    }
   ],
   "source": [
    "data.rename(columns={'ACTIVITY_MIN':'ACTIVITY_NO_MIN','ACTIVITY_MEDIAN':'ACTIVITY_NO_MEDIAN','ACTIVITY_SUM':'ACTIVITY_NO_SUM'})"
   ]
  },
  {
   "cell_type": "code",
   "execution_count": 94,
   "id": "3c6a895c-5aab-4e48-805e-9e3040676e8b",
   "metadata": {},
   "outputs": [
    {
     "data": {
      "text/plain": [
       "array(['BRANCH', 'MYVIB', 'AUTO-JOB', 'WEBSITE', nan], dtype=object)"
      ]
     },
     "execution_count": 94,
     "metadata": {},
     "output_type": "execute_result"
    }
   ],
   "source": [
    "data.EB_REGISTER_CHANNEL.unique()"
   ]
  },
  {
   "cell_type": "code",
   "execution_count": 95,
   "id": "7c4cc2b5-dce3-43a7-adf9-66d416ac2c10",
   "metadata": {},
   "outputs": [
    {
     "data": {
      "text/plain": [
       "0    219348\n",
       "1     70875\n",
       "Name: LABEL, dtype: int64"
      ]
     },
     "execution_count": 95,
     "metadata": {},
     "output_type": "execute_result"
    }
   ],
   "source": [
    "data.LABEL.value_counts()"
   ]
  },
  {
   "cell_type": "markdown",
   "id": "831b31b5-5e2b-47aa-9fb2-d245cbf98cba",
   "metadata": {},
   "source": [
    "### TRAIN TEST SPLIT"
   ]
  },
  {
   "cell_type": "code",
   "execution_count": 96,
   "id": "8c21e7cd-63ef-4121-9ec0-d8362ad11298",
   "metadata": {},
   "outputs": [],
   "source": [
    "dataset = data.drop(columns=['CUSTOMER_NUMBER'])"
   ]
  },
  {
   "cell_type": "code",
   "execution_count": 97,
   "id": "d9ef17c8-ec48-4581-82b8-6f28403e22b6",
   "metadata": {},
   "outputs": [],
   "source": [
    "categorical_col = dataset.select_dtypes(exclude=[int, float, np.int64, np.float64]).columns.to_list()"
   ]
  },
  {
   "cell_type": "code",
   "execution_count": 98,
   "id": "a0d0747c-75fb-460d-b8e2-70691807946e",
   "metadata": {},
   "outputs": [
    {
     "data": {
      "text/plain": [
       "['CLIENT_SEX',\n",
       " 'STAFF_VIB',\n",
       " 'EB_REGISTER_CHANNEL',\n",
       " 'SMS',\n",
       " 'VERIFY_METHOD',\n",
       " 'TRANS_DAY_OF_WEEK',\n",
       " 'ACTI_DAY_OF_WEEK']"
      ]
     },
     "execution_count": 98,
     "metadata": {},
     "output_type": "execute_result"
    }
   ],
   "source": [
    "categorical_col"
   ]
  },
  {
   "cell_type": "code",
   "execution_count": 99,
   "id": "2e592fad-ba42-415c-ab3d-66c4981ca78a",
   "metadata": {},
   "outputs": [],
   "source": [
    "for cat_col in categorical_col:\n",
    "    dataset[cat_col] = dataset[cat_col].astype('category')"
   ]
  },
  {
   "cell_type": "code",
   "execution_count": 100,
   "id": "f6dfc08c-5011-4e34-b8f1-ad5dd22223b2",
   "metadata": {
    "tags": []
   },
   "outputs": [],
   "source": [
    "X_train, X_test, y_train, y_test = train_test_split(dataset.drop(columns='LABEL'), dataset.LABEL, \n",
    "                                                    test_size=0.1, shuffle=True, stratify=dataset.LABEL, \n",
    "                                                    random_state=4)\n",
    "valid_size = y_test.shape[0] / y_train.shape[0]\n",
    "\n",
    "X_train, X_valid, y_train, y_valid = train_test_split(X_train, y_train, \n",
    "                                                    test_size=valid_size, shuffle=True, stratify=y_train, \n",
    "                                                    random_state=4)"
   ]
  },
  {
   "cell_type": "code",
   "execution_count": 101,
   "id": "402eaeb1-ca0b-4e6b-bfa0-dea4ef365845",
   "metadata": {},
   "outputs": [
    {
     "data": {
      "text/plain": [
       "208431    0\n",
       "236677    0\n",
       "6725      0\n",
       "266949    0\n",
       "133672    0\n",
       "         ..\n",
       "268960    0\n",
       "216868    0\n",
       "94675     0\n",
       "81050     0\n",
       "210436    0\n",
       "Name: LABEL, Length: 29023, dtype: int64"
      ]
     },
     "execution_count": 101,
     "metadata": {},
     "output_type": "execute_result"
    }
   ],
   "source": [
    "y_test"
   ]
  },
  {
   "cell_type": "code",
   "execution_count": 102,
   "id": "b8b396ca-e407-4ab4-bfdc-63996f91abbd",
   "metadata": {},
   "outputs": [
    {
     "data": {
      "text/plain": [
       "290223"
      ]
     },
     "execution_count": 102,
     "metadata": {},
     "output_type": "execute_result"
    }
   ],
   "source": [
    "dataset.shape[0]"
   ]
  },
  {
   "cell_type": "code",
   "execution_count": 103,
   "id": "b0b46ad7-2e2a-4296-82f9-4938953ae6d5",
   "metadata": {},
   "outputs": [
    {
     "data": {
      "text/plain": [
       "29023"
      ]
     },
     "execution_count": 103,
     "metadata": {},
     "output_type": "execute_result"
    }
   ],
   "source": [
    "y_test.shape[0]"
   ]
  },
  {
   "cell_type": "code",
   "execution_count": 104,
   "id": "c58133eb-6807-4a66-a731-850f8c723e0a",
   "metadata": {},
   "outputs": [
    {
     "data": {
      "text/plain": [
       "232177"
      ]
     },
     "execution_count": 104,
     "metadata": {},
     "output_type": "execute_result"
    }
   ],
   "source": [
    "y_train.shape[0]"
   ]
  },
  {
   "cell_type": "code",
   "execution_count": 105,
   "id": "5454f796-bbc1-4bc5-a630-699b24b9e53e",
   "metadata": {},
   "outputs": [
    {
     "data": {
      "text/plain": [
       "0.12500376867648388"
      ]
     },
     "execution_count": 105,
     "metadata": {},
     "output_type": "execute_result"
    }
   ],
   "source": [
    "y_test.shape[0]/y_train.shape[0]"
   ]
  },
  {
   "cell_type": "code",
   "execution_count": 106,
   "id": "f9b481f4-c503-420f-9302-3f3aeecffdb5",
   "metadata": {},
   "outputs": [
    {
     "data": {
      "text/plain": [
       "0.10000241193840599"
      ]
     },
     "execution_count": 106,
     "metadata": {},
     "output_type": "execute_result"
    }
   ],
   "source": [
    "y_train.shape[0]*0.12500376867648388/290223"
   ]
  },
  {
   "cell_type": "markdown",
   "id": "e2bcf250-d319-4cc1-bc1e-91af4b6324f5",
   "metadata": {},
   "source": [
    "#### TRAINING"
   ]
  },
  {
   "cell_type": "code",
   "execution_count": 107,
   "id": "2c673716-bc87-4be7-8538-96f85f364de9",
   "metadata": {},
   "outputs": [
    {
     "data": {
      "text/plain": [
       "['CLIENT_SEX',\n",
       " 'STAFF_VIB',\n",
       " 'EB_REGISTER_CHANNEL',\n",
       " 'SMS',\n",
       " 'VERIFY_METHOD',\n",
       " 'TRANS_DAY_OF_WEEK',\n",
       " 'ACTI_DAY_OF_WEEK']"
      ]
     },
     "execution_count": 107,
     "metadata": {},
     "output_type": "execute_result"
    }
   ],
   "source": [
    "categorical_col"
   ]
  },
  {
   "cell_type": "code",
   "execution_count": 108,
   "id": "111705a2-9544-4da8-9e04-6e131c5ebbfc",
   "metadata": {},
   "outputs": [],
   "source": [
    "train_set = lgb.Dataset(X_train, y_train)\n",
    "valid_set = lgb.Dataset(X_valid, y_valid)"
   ]
  },
  {
   "cell_type": "code",
   "execution_count": null,
   "id": "4b5705ea-f244-4e79-96cd-1a4cf493c10a",
   "metadata": {},
   "outputs": [
    {
     "name": "stderr",
     "output_type": "stream",
     "text": [
      "c:\\users\\pc\\anaconda3\\envs\\thuantran\\lib\\site-packages\\lightgbm\\basic.py:1555: UserWarning: categorical_feature in Dataset is overridden.\n",
      "New categorical_feature is ['ACTI_DAY_OF_WEEK', 'CLIENT_SEX', 'EB_REGISTER_CHANNEL', 'SMS', 'STAFF_VIB', 'TRANS_DAY_OF_WEEK', 'VERIFY_METHOD']\n",
      "  'New categorical_feature is {}'.format(sorted(list(categorical_feature))))\n"
     ]
    },
    {
     "name": "stdout",
     "output_type": "stream",
     "text": [
      "[LightGBM] [Info] Number of positive: 56699, number of negative: 175478\n",
      "[LightGBM] [Warning] Auto-choosing col-wise multi-threading, the overhead of testing was 0.124499 seconds.\n",
      "You can set `force_col_wise=true` to remove the overhead.\n",
      "[LightGBM] [Info] Total Bins 7779\n",
      "[LightGBM] [Info] Number of data points in the train set: 232177, number of used features: 63\n"
     ]
    },
    {
     "name": "stderr",
     "output_type": "stream",
     "text": [
      "c:\\users\\pc\\anaconda3\\envs\\thuantran\\lib\\site-packages\\lightgbm\\basic.py:1286: UserWarning: Overriding the parameters from Reference Dataset.\n",
      "  warnings.warn('Overriding the parameters from Reference Dataset.')\n",
      "c:\\users\\pc\\anaconda3\\envs\\thuantran\\lib\\site-packages\\lightgbm\\basic.py:1098: UserWarning: categorical_column in param dict is overridden.\n",
      "  warnings.warn('{} in param dict is overridden.'.format(cat_alias))\n"
     ]
    },
    {
     "name": "stdout",
     "output_type": "stream",
     "text": [
      "[LightGBM] [Info] [binary:BoostFromScore]: pavg=0.244206 -> initscore=-1.129757\n",
      "[LightGBM] [Info] Start training from score -1.129757\n"
     ]
    }
   ],
   "source": [
    "params = {\n",
    "    'boosting_type': 'gbdt',#Decision Tree\n",
    "    'objective': 'binary',#Phân loại 2 \n",
    "    'learning_rate': 0.001, #Tốc độ học của mô hình\n",
    "    'metric': ['binary_logloss', 'auc'],\n",
    "    'max_depth': 5,#5 lần chia\n",
    "    'num_leaves': 10, #mỗi lần chia tách ra làm \n",
    "    'feature_fraction' : 0.8, #một lần training, lấy bao nhiêu phần trăm trong tổng số cột\n",
    "    'bagging_fraction' : 0.8, #Lấy bao nhiêu % số dòng\n",
    "    'min_data_in_leaf' : 1000, #Số lượng điểm dữ liệu trong 1 leaf\n",
    "    'num_threads': 8 #Số luồng chạy trong máy tính\n",
    "}\n",
    "\n",
    "eval_result = {}\n",
    "\n",
    "clf = lgb.train(params, train_set, num_boost_round=4000 #số cây\n",
    "                , categorical_feature=categorical_col,\n",
    "                valid_sets=[train_set, valid_set], \n",
    "                verbose_eval=False\n",
    "                , evals_result=eval_result)"
   ]
  },
  {
   "cell_type": "code",
   "execution_count": 110,
   "id": "ae486329-15f8-4a42-b14e-29110f884dac",
   "metadata": {},
   "outputs": [
    {
     "data": {
      "image/png": "[encoded data removed]",
      "text/plain": [
       "<Figure size 1080x360 with 2 Axes>"
      ]
     },
     "metadata": {
      "needs_background": "light"
     },
     "output_type": "display_data"
    }
   ],
   "source": [
    "fig, ax = plt.subplots(1, 2, figsize=(15, 5))\n",
    "lgb.plot_metric(eval_result, metric='binary_logloss', ax=ax[0], title='Log loss')\n",
    "lgb.plot_metric(eval_result, metric='auc', ax=ax[1], title='AUC score');"
   ]
  },
  {
   "cell_type": "markdown",
   "id": "b59c1764-c66f-4cdc-88e5-3f6445398722",
   "metadata": {},
   "source": [
    "### PREDICTION AND EVALUATION"
   ]
  },
  {
   "cell_type": "code",
   "execution_count": 111,
   "id": "779b057c-5eca-4308-b4f3-8fd9b206e6c1",
   "metadata": {},
   "outputs": [],
   "source": [
    "y_predicted = clf.predict(X_test)"
   ]
  },
  {
   "cell_type": "code",
   "execution_count": 112,
   "id": "98caba99-fc14-4a12-b95e-90223a6b6029",
   "metadata": {},
   "outputs": [
    {
     "data": {
      "text/plain": [
       "0.9610736767928638"
      ]
     },
     "execution_count": 112,
     "metadata": {},
     "output_type": "execute_result"
    }
   ],
   "source": [
    "roc_auc_score(y_test, y_predicted)"
   ]
  },
  {
   "cell_type": "code",
   "execution_count": 113,
   "id": "ed7e5c79-2d5a-469b-9c54-8973f59bc692",
   "metadata": {},
   "outputs": [],
   "source": [
    "thresh = 0.5\n",
    "y_hard_predicted = np.where(y_predicted >= 0.5, 1, 0)"
   ]
  },
  {
   "cell_type": "code",
   "execution_count": 114,
   "id": "9f607073-d378-458d-850b-4b594d5bf64c",
   "metadata": {},
   "outputs": [
    {
     "data": {
      "image/png": "[encoded data removed]",
      "text/plain": [
       "<Figure size 432x288 with 1 Axes>"
      ]
     },
     "metadata": {
      "needs_background": "light"
     },
     "output_type": "display_data"
    }
   ],
   "source": [
    "ax = sns.heatmap(confusion_matrix(y_test,  y_hard_predicted), cbar=False, cmap='Blues', annot=True, fmt='d', \n",
    "            xticklabels=['0', '1'], yticklabels=['TRUE_0', 'TRUE_1'], \n",
    "            linewidth=0.1, linecolor='black')\n",
    "ax.set_yticklabels(ax.get_yticklabels(), rotation=0, ha='right');"
   ]
  },
  {
   "cell_type": "code",
   "execution_count": 115,
   "id": "7467ef85-cd32-45a9-9ce3-73130979862f",
   "metadata": {},
   "outputs": [
    {
     "data": {
      "text/plain": [
       "8629"
      ]
     },
     "execution_count": 115,
     "metadata": {},
     "output_type": "execute_result"
    }
   ],
   "source": [
    "1676+6953"
   ]
  },
  {
   "cell_type": "code",
   "execution_count": 116,
   "id": "7787c5cf-2d50-4582-9336-6dec088ba09d",
   "metadata": {},
   "outputs": [
    {
     "name": "stdout",
     "output_type": "stream",
     "text": [
      "              precision    recall  f1-score   support\n",
      "\n",
      "           0       0.99      0.92      0.96     21935\n",
      "           1       0.81      0.98      0.88      7088\n",
      "\n",
      "    accuracy                           0.94     29023\n",
      "   macro avg       0.90      0.95      0.92     29023\n",
      "weighted avg       0.95      0.94      0.94     29023\n",
      "\n"
     ]
    }
   ],
   "source": [
    "print(classification_report(y_test, y_hard_predicted))"
   ]
  },
  {
   "cell_type": "markdown",
   "id": "766906ac-c27a-46d1-985a-2456dd05236b",
   "metadata": {},
   "source": [
    "### CALIBRATION CURVE"
   ]
  },
  {
   "cell_type": "code",
   "execution_count": 117,
   "id": "de737d0f-2da3-44c4-8ee4-ddd22a7d89a4",
   "metadata": {},
   "outputs": [],
   "source": [
    "prob_true, prob_pred = calibration_curve(y_test, y_predicted, n_bins=10)"
   ]
  },
  {
   "cell_type": "code",
   "execution_count": 118,
   "id": "4ab42415-e242-4c90-91e3-b90ace212c10",
   "metadata": {},
   "outputs": [
    {
     "data": {
      "image/png": "[encoded data removed]",
      "text/plain": [
       "<Figure size 720x432 with 1 Axes>"
      ]
     },
     "metadata": {
      "needs_background": "light"
     },
     "output_type": "display_data"
    }
   ],
   "source": [
    "plt.figure(figsize=(10, 6))\n",
    "plt.plot(prob_pred, prob_true)\n",
    "plt.scatter(prob_pred, prob_true)\n",
    "plt.plot([0, 1], [0, 1], linestyle='--')\n",
    "plt.xlabel('Xác suất giá trị dự báo')\n",
    "plt.ylabel('Xác suất giá trị thực tế')\n",
    "plt.title('Đường hiệu chuẩn')\n",
    "plt.legend(['Đường hiệu chuẩn','Đường tối ưu'])\n",
    "plt.show()"
   ]
  },
  {
   "cell_type": "markdown",
   "id": "70c5472a-c76f-424e-a70f-43f4bf482c1b",
   "metadata": {},
   "source": [
    "### CONVERSION RATE"
   ]
  },
  {
   "cell_type": "code",
   "execution_count": 119,
   "id": "6fe596bf-a66f-4730-a94a-b77653226eb0",
   "metadata": {},
   "outputs": [],
   "source": [
    "def conversion_rate(y_true, y_pred, top=0.1):\n",
    "    df = pd.DataFrame({'actual': y_true, 'predicted': y_pred})\n",
    "    df.sort_values('predicted', ascending=False)\n",
    "    \n",
    "    if top < 1:\n",
    "        top = int(top * df.shape[0])\n",
    "    df_top = df.head(top)\n",
    "    return df_top.actual.sum() / df_top.shape[0]"
   ]
  },
  {
   "cell_type": "code",
   "execution_count": 120,
   "id": "0cdcaa36-cd0a-4944-b0d9-51b73497e87a",
   "metadata": {},
   "outputs": [
    {
     "data": {
      "text/plain": [
       "0.23673328738800828"
      ]
     },
     "execution_count": 120,
     "metadata": {},
     "output_type": "execute_result"
    }
   ],
   "source": [
    "conversion_rate(y_test, y_predicted)"
   ]
  },
  {
   "cell_type": "markdown",
   "id": "f01069c5-a77a-4a6c-a8ec-92fbae5a7024",
   "metadata": {},
   "source": [
    "### IMPORTANT FEATURE"
   ]
  },
  {
   "cell_type": "code",
   "execution_count": 121,
   "id": "a8018002-014f-42e7-a40b-403a080a1749",
   "metadata": {},
   "outputs": [
    {
     "data": {
      "text/plain": [
       "Text(0.5, 1.0, 'Biến quan trọng')"
      ]
     },
     "execution_count": 121,
     "metadata": {},
     "output_type": "execute_result"
    },
    {
     "data": {
      "image/png": "[encoded data removed]",
      "text/plain": [
       "<Figure size 1440x720 with 1 Axes>"
      ]
     },
     "metadata": {
      "needs_background": "light"
     },
     "output_type": "display_data"
    }
   ],
   "source": [
    "lgb.plot_importance(clf, precision=0, max_num_features=20, figsize=(20, 10), height=1)\n",
    "plt.xlabel('Số lần được sử dụng')\n",
    "plt.ylabel('Biến quan trọng')\n",
    "plt.title('Biến quan trọng')"
   ]
  },
  {
   "cell_type": "markdown",
   "id": "899c38e4-c02b-4adb-a2be-19e39f75ec17",
   "metadata": {},
   "source": [
    "### GAIN TABLE"
   ]
  },
  {
   "cell_type": "code",
   "execution_count": 140,
   "id": "948e8fbc-054f-4f7c-87d2-bc51f3852527",
   "metadata": {},
   "outputs": [],
   "source": [
    "def gain_table(y_true, y_pred):\n",
    "    pdt = pd.DataFrame({'label':y_true,'predict':y_pred})\n",
    "    \n",
    "    num_label = pd.qcut(pdt['predict'], 10, labels=False, duplicates='drop').nunique()\n",
    "    \n",
    "    label_levels= ['Level1','Level2','Level3','Level4','Level5','Level6', 'Level7','Level8','Level9','Level10']\n",
    "    pdt['level'], bins=pd.qcut(pdt['predict'], 10, labels=label_levels[: num_label], \n",
    "                               duplicates='drop',retbins=True)\n",
    "    \n",
    "    pdt2 = pdt.groupby(['level']).agg(Số_lượng_khách_hàng=('label','count'),\n",
    "                                      Số_người_mua_bảo_hiểm=('label','sum'),\n",
    "                                      Xác_suất_mua_nhỏ_nhất=('predict','min'),\n",
    "                                      Xác_suất_mua_lớn_nhất=('predict','max')\n",
    "                                     ).reset_index().sort_values('level',ascending=False)\n",
    "\n",
    "    pdt2['Tỷ_lệ_chuyển_đổi']= pdt2['Số_người_mua_bảo_hiểm']/pdt2['Số_lượng_khách_hàng']\n",
    "    return pdt2.set_index('level')"
   ]
  },
  {
   "cell_type": "code",
   "execution_count": 141,
   "id": "6bd2bf20-0456-4f34-8c3f-b704b2c9f9ce",
   "metadata": {},
   "outputs": [],
   "source": [
    "index = ['cấp_độ_1','cấp_độ_2','cấp_độ_3','cấp_độ_4','cấp_độ_5','cấp_độ_6','cấp_độ_7','cấp_độ_8','cấp_độ_9']"
   ]
  },
  {
   "cell_type": "code",
   "execution_count": 142,
   "id": "3f5279b0-d9b2-48f5-8907-6e5d39d9c255",
   "metadata": {
    "tags": []
   },
   "outputs": [
    {
     "data": {
      "text/html": [
       "<div>\n",
       "<style scoped>\n",
       "    .dataframe tbody tr th:only-of-type {\n",
       "        vertical-align: middle;\n",
       "    }\n",
       "\n",
       "    .dataframe tbody tr th {\n",
       "        vertical-align: top;\n",
       "    }\n",
       "\n",
       "    .dataframe thead th {\n",
       "        text-align: right;\n",
       "    }\n",
       "</style>\n",
       "<table border=\"1\" class=\"dataframe\">\n",
       "  <thead>\n",
       "    <tr style=\"text-align: right;\">\n",
       "      <th></th>\n",
       "      <th>Số_lượng_khách_hàng</th>\n",
       "      <th>Số_người_mua_bảo_hiểm</th>\n",
       "      <th>Xác_suất_mua_nhỏ_nhất</th>\n",
       "      <th>Xác_suất_mua_lớn_nhất</th>\n",
       "      <th>Tỷ_lệ_chuyển_đổi</th>\n",
       "    </tr>\n",
       "    <tr>\n",
       "      <th>level</th>\n",
       "      <th></th>\n",
       "      <th></th>\n",
       "      <th></th>\n",
       "      <th></th>\n",
       "      <th></th>\n",
       "    </tr>\n",
       "  </thead>\n",
       "  <tbody>\n",
       "    <tr>\n",
       "      <th>Level9</th>\n",
       "      <td>2903</td>\n",
       "      <td>2341</td>\n",
       "      <td>0.796453</td>\n",
       "      <td>0.836700</td>\n",
       "      <td>0.806407</td>\n",
       "    </tr>\n",
       "    <tr>\n",
       "      <th>Level8</th>\n",
       "      <td>2757</td>\n",
       "      <td>2210</td>\n",
       "      <td>0.793738</td>\n",
       "      <td>0.796359</td>\n",
       "      <td>0.801596</td>\n",
       "    </tr>\n",
       "    <tr>\n",
       "      <th>Level7</th>\n",
       "      <td>3047</td>\n",
       "      <td>2451</td>\n",
       "      <td>0.351088</td>\n",
       "      <td>0.793735</td>\n",
       "      <td>0.804398</td>\n",
       "    </tr>\n",
       "    <tr>\n",
       "      <th>Level6</th>\n",
       "      <td>2902</td>\n",
       "      <td>86</td>\n",
       "      <td>0.012195</td>\n",
       "      <td>0.349605</td>\n",
       "      <td>0.029635</td>\n",
       "    </tr>\n",
       "    <tr>\n",
       "      <th>Level5</th>\n",
       "      <td>2431</td>\n",
       "      <td>0</td>\n",
       "      <td>0.005798</td>\n",
       "      <td>0.012188</td>\n",
       "      <td>0.000000</td>\n",
       "    </tr>\n",
       "    <tr>\n",
       "      <th>Level4</th>\n",
       "      <td>1973</td>\n",
       "      <td>0</td>\n",
       "      <td>0.005779</td>\n",
       "      <td>0.005795</td>\n",
       "      <td>0.000000</td>\n",
       "    </tr>\n",
       "    <tr>\n",
       "      <th>Level3</th>\n",
       "      <td>4153</td>\n",
       "      <td>0</td>\n",
       "      <td>0.005071</td>\n",
       "      <td>0.005775</td>\n",
       "      <td>0.000000</td>\n",
       "    </tr>\n",
       "    <tr>\n",
       "      <th>Level2</th>\n",
       "      <td>1743</td>\n",
       "      <td>0</td>\n",
       "      <td>0.005025</td>\n",
       "      <td>0.005068</td>\n",
       "      <td>0.000000</td>\n",
       "    </tr>\n",
       "    <tr>\n",
       "      <th>Level1</th>\n",
       "      <td>7114</td>\n",
       "      <td>0</td>\n",
       "      <td>0.004975</td>\n",
       "      <td>0.005020</td>\n",
       "      <td>0.000000</td>\n",
       "    </tr>\n",
       "  </tbody>\n",
       "</table>\n",
       "</div>"
      ],
      "text/plain": [
       "        Số_lượng_khách_hàng  Số_người_mua_bảo_hiểm  Xác_suất_mua_nhỏ_nhất  \\\n",
       "level                                                                       \n",
       "Level9                 2903                   2341               0.796453   \n",
       "Level8                 2757                   2210               0.793738   \n",
       "Level7                 3047                   2451               0.351088   \n",
       "Level6                 2902                     86               0.012195   \n",
       "Level5                 2431                      0               0.005798   \n",
       "Level4                 1973                      0               0.005779   \n",
       "Level3                 4153                      0               0.005071   \n",
       "Level2                 1743                      0               0.005025   \n",
       "Level1                 7114                      0               0.004975   \n",
       "\n",
       "        Xác_suất_mua_lớn_nhất  Tỷ_lệ_chuyển_đổi  \n",
       "level                                            \n",
       "Level9               0.836700          0.806407  \n",
       "Level8               0.796359          0.801596  \n",
       "Level7               0.793735          0.804398  \n",
       "Level6               0.349605          0.029635  \n",
       "Level5               0.012188          0.000000  \n",
       "Level4               0.005795          0.000000  \n",
       "Level3               0.005775          0.000000  \n",
       "Level2               0.005068          0.000000  \n",
       "Level1               0.005020          0.000000  "
      ]
     },
     "execution_count": 142,
     "metadata": {},
     "output_type": "execute_result"
    }
   ],
   "source": [
    "df = gain_table(y_test, y_predicted)\n",
    "df"
   ]
  },
  {
   "cell_type": "code",
   "execution_count": 143,
   "id": "b99c8ae0-c704-4c0f-b8c0-36dd3629687f",
   "metadata": {},
   "outputs": [],
   "source": [
    "df.index=index"
   ]
  },
  {
   "cell_type": "code",
   "execution_count": 146,
   "id": "faa8b3e6-ae15-4b38-aa7a-6a22584ac3da",
   "metadata": {},
   "outputs": [
    {
     "data": {
      "text/plain": [
       "(29023,)"
      ]
     },
     "execution_count": 146,
     "metadata": {},
     "output_type": "execute_result"
    }
   ],
   "source": [
    "y_test.shape"
   ]
  },
  {
   "cell_type": "code",
   "execution_count": 148,
   "id": "31b062f4-781e-4126-95f6-d3e1b11d75df",
   "metadata": {},
   "outputs": [
    {
     "data": {
      "text/plain": [
       "23363"
      ]
     },
     "execution_count": 148,
     "metadata": {},
     "output_type": "execute_result"
    }
   ],
   "source": [
    "29023-2903-2757"
   ]
  },
  {
   "cell_type": "code",
   "execution_count": 144,
   "id": "53013b90-c65e-49fe-b12c-0e967e52e7bd",
   "metadata": {},
   "outputs": [
    {
     "data": {
      "text/html": [
       "<div>\n",
       "<style scoped>\n",
       "    .dataframe tbody tr th:only-of-type {\n",
       "        vertical-align: middle;\n",
       "    }\n",
       "\n",
       "    .dataframe tbody tr th {\n",
       "        vertical-align: top;\n",
       "    }\n",
       "\n",
       "    .dataframe thead th {\n",
       "        text-align: right;\n",
       "    }\n",
       "</style>\n",
       "<table border=\"1\" class=\"dataframe\">\n",
       "  <thead>\n",
       "    <tr style=\"text-align: right;\">\n",
       "      <th></th>\n",
       "      <th>Số_lượng_khách_hàng</th>\n",
       "      <th>Số_người_mua_bảo_hiểm</th>\n",
       "      <th>Xác_suất_mua_nhỏ_nhất</th>\n",
       "      <th>Xác_suất_mua_lớn_nhất</th>\n",
       "      <th>Tỷ_lệ_chuyển_đổi</th>\n",
       "    </tr>\n",
       "  </thead>\n",
       "  <tbody>\n",
       "    <tr>\n",
       "      <th>cấp_độ_1</th>\n",
       "      <td>2903</td>\n",
       "      <td>2341</td>\n",
       "      <td>0.796453</td>\n",
       "      <td>0.836700</td>\n",
       "      <td>0.806407</td>\n",
       "    </tr>\n",
       "    <tr>\n",
       "      <th>cấp_độ_2</th>\n",
       "      <td>2757</td>\n",
       "      <td>2210</td>\n",
       "      <td>0.793738</td>\n",
       "      <td>0.796359</td>\n",
       "      <td>0.801596</td>\n",
       "    </tr>\n",
       "    <tr>\n",
       "      <th>cấp_độ_3</th>\n",
       "      <td>3047</td>\n",
       "      <td>2451</td>\n",
       "      <td>0.351088</td>\n",
       "      <td>0.793735</td>\n",
       "      <td>0.804398</td>\n",
       "    </tr>\n",
       "    <tr>\n",
       "      <th>cấp_độ_4</th>\n",
       "      <td>2902</td>\n",
       "      <td>86</td>\n",
       "      <td>0.012195</td>\n",
       "      <td>0.349605</td>\n",
       "      <td>0.029635</td>\n",
       "    </tr>\n",
       "    <tr>\n",
       "      <th>cấp_độ_5</th>\n",
       "      <td>2431</td>\n",
       "      <td>0</td>\n",
       "      <td>0.005798</td>\n",
       "      <td>0.012188</td>\n",
       "      <td>0.000000</td>\n",
       "    </tr>\n",
       "    <tr>\n",
       "      <th>cấp_độ_6</th>\n",
       "      <td>1973</td>\n",
       "      <td>0</td>\n",
       "      <td>0.005779</td>\n",
       "      <td>0.005795</td>\n",
       "      <td>0.000000</td>\n",
       "    </tr>\n",
       "    <tr>\n",
       "      <th>cấp_độ_7</th>\n",
       "      <td>4153</td>\n",
       "      <td>0</td>\n",
       "      <td>0.005071</td>\n",
       "      <td>0.005775</td>\n",
       "      <td>0.000000</td>\n",
       "    </tr>\n",
       "    <tr>\n",
       "      <th>cấp_độ_8</th>\n",
       "      <td>1743</td>\n",
       "      <td>0</td>\n",
       "      <td>0.005025</td>\n",
       "      <td>0.005068</td>\n",
       "      <td>0.000000</td>\n",
       "    </tr>\n",
       "    <tr>\n",
       "      <th>cấp_độ_9</th>\n",
       "      <td>7114</td>\n",
       "      <td>0</td>\n",
       "      <td>0.004975</td>\n",
       "      <td>0.005020</td>\n",
       "      <td>0.000000</td>\n",
       "    </tr>\n",
       "  </tbody>\n",
       "</table>\n",
       "</div>"
      ],
      "text/plain": [
       "          Số_lượng_khách_hàng  Số_người_mua_bảo_hiểm  Xác_suất_mua_nhỏ_nhất  \\\n",
       "cấp_độ_1                 2903                   2341               0.796453   \n",
       "cấp_độ_2                 2757                   2210               0.793738   \n",
       "cấp_độ_3                 3047                   2451               0.351088   \n",
       "cấp_độ_4                 2902                     86               0.012195   \n",
       "cấp_độ_5                 2431                      0               0.005798   \n",
       "cấp_độ_6                 1973                      0               0.005779   \n",
       "cấp_độ_7                 4153                      0               0.005071   \n",
       "cấp_độ_8                 1743                      0               0.005025   \n",
       "cấp_độ_9                 7114                      0               0.004975   \n",
       "\n",
       "          Xác_suất_mua_lớn_nhất  Tỷ_lệ_chuyển_đổi  \n",
       "cấp_độ_1               0.836700          0.806407  \n",
       "cấp_độ_2               0.796359          0.801596  \n",
       "cấp_độ_3               0.793735          0.804398  \n",
       "cấp_độ_4               0.349605          0.029635  \n",
       "cấp_độ_5               0.012188          0.000000  \n",
       "cấp_độ_6               0.005795          0.000000  \n",
       "cấp_độ_7               0.005775          0.000000  \n",
       "cấp_độ_8               0.005068          0.000000  \n",
       "cấp_độ_9               0.005020          0.000000  "
      ]
     },
     "execution_count": 144,
     "metadata": {},
     "output_type": "execute_result"
    }
   ],
   "source": [
    "df"
   ]
  },
  {
   "cell_type": "code",
   "execution_count": 145,
   "id": "1a5a29a8-10e4-43b5-a1e3-6a460d89b511",
   "metadata": {
    "tags": []
   },
   "outputs": [
    {
     "data": {
      "image/png": "[encoded data removed]",
      "text/plain": [
       "<Figure size 720x432 with 1 Axes>"
      ]
     },
     "metadata": {
      "needs_background": "light"
     },
     "output_type": "display_data"
    }
   ],
   "source": [
    "percentage, gain = cumulative_gain_curve(y_test, y_predicted)\n",
    "plt.figure(figsize=(10, 6))\n",
    "plt.plot([0, 1], [0, 1], linestyle='--')\n",
    "plt.plot(percentage, gain)\n",
    "plt.xlabel('Prediction Probability')\n",
    "plt.ylabel('Conversion Rate')\n",
    "plt.title('Cumulative Gain Chart')\n",
    "plt.show()"
   ]
  },
  {
   "cell_type": "markdown",
   "id": "66f66058-576a-4830-adf5-70612e641b73",
   "metadata": {},
   "source": [
    "# DRAFT"
   ]
  },
  {
   "cell_type": "code",
   "execution_count": 10,
   "id": "bd5aa378-b174-4f2e-9b7c-a81b5a16035a",
   "metadata": {},
   "outputs": [
    {
     "data": {
      "text/html": [
       "<div>\n",
       "<style scoped>\n",
       "    .dataframe tbody tr th:only-of-type {\n",
       "        vertical-align: middle;\n",
       "    }\n",
       "\n",
       "    .dataframe tbody tr th {\n",
       "        vertical-align: top;\n",
       "    }\n",
       "\n",
       "    .dataframe thead th {\n",
       "        text-align: right;\n",
       "    }\n",
       "</style>\n",
       "<table border=\"1\" class=\"dataframe\">\n",
       "  <thead>\n",
       "    <tr style=\"text-align: right;\">\n",
       "      <th></th>\n",
       "      <th>TRANS_LV1</th>\n",
       "      <th>TRANS_LV2</th>\n",
       "      <th>TRANS_DATE</th>\n",
       "      <th>DAY_OF_WEEK</th>\n",
       "      <th>TRANS_HOUR</th>\n",
       "      <th>TRANS_NO</th>\n",
       "      <th>TRANS_AMOUNT</th>\n",
       "      <th>CUSTOMER_NUMBER</th>\n",
       "    </tr>\n",
       "  </thead>\n",
       "  <tbody>\n",
       "    <tr>\n",
       "      <th>0</th>\n",
       "      <td>Transfer</td>\n",
       "      <td>Outside_VIB</td>\n",
       "      <td>2019-01-03</td>\n",
       "      <td>Thu</td>\n",
       "      <td>17</td>\n",
       "      <td>2</td>\n",
       "      <td>189771864.0</td>\n",
       "      <td>701619</td>\n",
       "    </tr>\n",
       "    <tr>\n",
       "      <th>1</th>\n",
       "      <td>Transfer</td>\n",
       "      <td>Outside_VIB</td>\n",
       "      <td>2019-07-01</td>\n",
       "      <td>Mon</td>\n",
       "      <td>13</td>\n",
       "      <td>2</td>\n",
       "      <td>30224900.0</td>\n",
       "      <td>701619</td>\n",
       "    </tr>\n",
       "    <tr>\n",
       "      <th>2</th>\n",
       "      <td>Transfer</td>\n",
       "      <td>Outside_VIB</td>\n",
       "      <td>2019-01-02</td>\n",
       "      <td>Wed</td>\n",
       "      <td>15</td>\n",
       "      <td>1</td>\n",
       "      <td>100000.0</td>\n",
       "      <td>701619</td>\n",
       "    </tr>\n",
       "    <tr>\n",
       "      <th>3</th>\n",
       "      <td>Payment</td>\n",
       "      <td>Credit_card_repayment</td>\n",
       "      <td>2019-01-03</td>\n",
       "      <td>Thu</td>\n",
       "      <td>14</td>\n",
       "      <td>1</td>\n",
       "      <td>85000000.0</td>\n",
       "      <td>262123</td>\n",
       "    </tr>\n",
       "    <tr>\n",
       "      <th>4</th>\n",
       "      <td>Payment</td>\n",
       "      <td>Credit_card_repayment</td>\n",
       "      <td>2019-01-28</td>\n",
       "      <td>Mon</td>\n",
       "      <td>22</td>\n",
       "      <td>1</td>\n",
       "      <td>83000000.0</td>\n",
       "      <td>262123</td>\n",
       "    </tr>\n",
       "  </tbody>\n",
       "</table>\n",
       "</div>"
      ],
      "text/plain": [
       "  TRANS_LV1              TRANS_LV2  TRANS_DATE DAY_OF_WEEK  TRANS_HOUR  \\\n",
       "0  Transfer            Outside_VIB  2019-01-03         Thu          17   \n",
       "1  Transfer            Outside_VIB  2019-07-01         Mon          13   \n",
       "2  Transfer            Outside_VIB  2019-01-02         Wed          15   \n",
       "3   Payment  Credit_card_repayment  2019-01-03         Thu          14   \n",
       "4   Payment  Credit_card_repayment  2019-01-28         Mon          22   \n",
       "\n",
       "   TRANS_NO  TRANS_AMOUNT  CUSTOMER_NUMBER  \n",
       "0         2   189771864.0           701619  \n",
       "1         2    30224900.0           701619  \n",
       "2         1      100000.0           701619  \n",
       "3         1    85000000.0           262123  \n",
       "4         1    83000000.0           262123  "
      ]
     },
     "execution_count": 10,
     "metadata": {},
     "output_type": "execute_result"
    }
   ],
   "source": [
    "trans = pd.read_csv('2.Data_MyVIB_Transaction.csv')\n",
    "trans.head()"
   ]
  },
  {
   "cell_type": "code",
   "execution_count": 13,
   "id": "3e601ae4-31f8-4449-b538-41b96001f1f0",
   "metadata": {},
   "outputs": [
    {
     "data": {
      "image/png": "[encoded data removed]",
      "text/plain": [
       "<Figure size 720x432 with 1 Axes>"
      ]
     },
     "metadata": {},
     "output_type": "display_data"
    }
   ],
   "source": [
    "trans.TRANS_LV1.value_counts().plot.pie(autopct='%.2f%%', figsize=(10,6), labels=None)\n",
    "plt.legend(['Chuyển tiền', 'Nạp tiền', 'Thanh toán']);"
   ]
  },
  {
   "cell_type": "code",
   "execution_count": 84,
   "id": "e545e774-7235-4e87-9300-d7d5687273f9",
   "metadata": {},
   "outputs": [
    {
     "data": {
      "image/png": "[encoded data removed]",
      "text/plain": [
       "<Figure size 1080x504 with 1 Axes>"
      ]
     },
     "metadata": {
      "needs_background": "light"
     },
     "output_type": "display_data"
    }
   ],
   "source": [
    "(\n",
    "    trans\n",
    "    .groupby(['MONTHLY','DAY_OF_WEEK'])\n",
    "    .TRANS_NO\n",
    "    .sum()\n",
    "    .unstack('DAY_OF_WEEK')\n",
    "    .plot\n",
    "    .bar(stacked=True, figsize=(15,7))\n",
    ")\n",
    "plt.legend(['Thứ 6', 'Thứ hai', 'Thứ 7', 'Chủ Nhật', 'Thứ 5', 'Thứ 3', 'Thứ 4'])\n",
    "plt.xlabel('Tháng');"
   ]
  },
  {
   "cell_type": "code",
   "execution_count": 53,
   "id": "88b0f4d0-a1df-424d-971c-e566451bcf65",
   "metadata": {},
   "outputs": [
    {
     "data": {
      "image/png": "[encoded data removed]",
      "text/plain": [
       "<Figure size 720x432 with 1 Axes>"
      ]
     },
     "metadata": {
      "needs_background": "light"
     },
     "output_type": "display_data"
    }
   ],
   "source": [
    "dic = pd.Series({'Thứ 2':268559, 'Thứ 3':264902,'Thứ 4': 254454, 'Thứ 5':253465, 'Thứ 6': 265882, 'Thứ 7':  212969, 'Chủ Nhật': 160560 })\n",
    "dic.plot(figsize=(10,6));"
   ]
  },
  {
   "cell_type": "code",
   "execution_count": 99,
   "id": "379fe87f-8c3f-4b9c-b70e-75019835f375",
   "metadata": {},
   "outputs": [
    {
     "data": {
      "text/plain": [
       "count    52488.000000\n",
       "mean         6.756823\n",
       "std         16.659039\n",
       "min          1.000000\n",
       "25%          2.000000\n",
       "50%          3.777778\n",
       "75%          7.571429\n",
       "max        912.833333\n",
       "Name: TRANS_NO, dtype: float64"
      ]
     },
     "execution_count": 99,
     "metadata": {},
     "output_type": "execute_result"
    }
   ],
   "source": [
    "(\n",
    "    trans\n",
    "    .groupby(['CUSTOMER_NUMBER','MONTHLY'])\n",
    "    .TRANS_NO\n",
    "    .sum()\n",
    "    .groupby('CUSTOMER_NUMBER')\n",
    "    .mean()\n",
    "    .describe()\n",
    ")"
   ]
  },
  {
   "cell_type": "code",
   "execution_count": 100,
   "id": "3f16ae96-83ec-4842-b5d1-b1df6266f5cf",
   "metadata": {},
   "outputs": [
    {
     "data": {
      "text/plain": [
       "count    12.000000\n",
       "mean      7.298110\n",
       "std       1.977924\n",
       "min       3.893460\n",
       "25%       5.997888\n",
       "50%       7.831830\n",
       "75%       8.858688\n",
       "max       9.424849\n",
       "Name: TRANS_NO, dtype: float64"
      ]
     },
     "execution_count": 100,
     "metadata": {},
     "output_type": "execute_result"
    }
   ],
   "source": [
    "(\n",
    "    trans\n",
    "    .groupby(['MONTHLY','CUSTOMER_NUMBER'])\n",
    "    .TRANS_NO\n",
    "    .sum()\n",
    "    .groupby('MONTHLY')\n",
    "    .mean()\n",
    "    .describe()\n",
    ")"
   ]
  },
  {
   "cell_type": "code",
   "execution_count": 93,
   "id": "55ec3279-67aa-43a3-98cc-aebba5cfa835",
   "metadata": {},
   "outputs": [
    {
     "data": {
      "text/html": [
       "<div>\n",
       "<style scoped>\n",
       "    .dataframe tbody tr th:only-of-type {\n",
       "        vertical-align: middle;\n",
       "    }\n",
       "\n",
       "    .dataframe tbody tr th {\n",
       "        vertical-align: top;\n",
       "    }\n",
       "\n",
       "    .dataframe thead th {\n",
       "        text-align: right;\n",
       "    }\n",
       "</style>\n",
       "<table border=\"1\" class=\"dataframe\">\n",
       "  <thead>\n",
       "    <tr style=\"text-align: right;\">\n",
       "      <th></th>\n",
       "      <th>TRANS_LV1</th>\n",
       "      <th>TRANS_LV2</th>\n",
       "      <th>TRANS_DATE</th>\n",
       "      <th>DAY_OF_WEEK</th>\n",
       "      <th>TRANS_HOUR</th>\n",
       "      <th>TRANS_NO</th>\n",
       "      <th>TRANS_AMOUNT</th>\n",
       "      <th>CUSTOMER_NUMBER</th>\n",
       "      <th>MONTHLY</th>\n",
       "    </tr>\n",
       "  </thead>\n",
       "  <tbody>\n",
       "    <tr>\n",
       "      <th>313775</th>\n",
       "      <td>Transfer</td>\n",
       "      <td>Outside_VIB</td>\n",
       "      <td>2019-05-12</td>\n",
       "      <td>Sun</td>\n",
       "      <td>21</td>\n",
       "      <td>15</td>\n",
       "      <td>73754200.0</td>\n",
       "      <td>747140</td>\n",
       "      <td>2019-05</td>\n",
       "    </tr>\n",
       "    <tr>\n",
       "      <th>313776</th>\n",
       "      <td>Transfer</td>\n",
       "      <td>Outside_VIB</td>\n",
       "      <td>2019-05-09</td>\n",
       "      <td>Thu</td>\n",
       "      <td>21</td>\n",
       "      <td>8</td>\n",
       "      <td>23210000.0</td>\n",
       "      <td>747140</td>\n",
       "      <td>2019-05</td>\n",
       "    </tr>\n",
       "    <tr>\n",
       "      <th>313777</th>\n",
       "      <td>Transfer</td>\n",
       "      <td>Outside_VIB</td>\n",
       "      <td>2019-05-11</td>\n",
       "      <td>Sat</td>\n",
       "      <td>20</td>\n",
       "      <td>14</td>\n",
       "      <td>116023900.0</td>\n",
       "      <td>747140</td>\n",
       "      <td>2019-05</td>\n",
       "    </tr>\n",
       "    <tr>\n",
       "      <th>313778</th>\n",
       "      <td>Transfer</td>\n",
       "      <td>Outside_VIB</td>\n",
       "      <td>2019-05-15</td>\n",
       "      <td>Wed</td>\n",
       "      <td>16</td>\n",
       "      <td>10</td>\n",
       "      <td>41980150.0</td>\n",
       "      <td>747140</td>\n",
       "      <td>2019-05</td>\n",
       "    </tr>\n",
       "    <tr>\n",
       "      <th>313779</th>\n",
       "      <td>Transfer</td>\n",
       "      <td>Outside_VIB</td>\n",
       "      <td>2019-05-16</td>\n",
       "      <td>Thu</td>\n",
       "      <td>20</td>\n",
       "      <td>1</td>\n",
       "      <td>4950000.0</td>\n",
       "      <td>747140</td>\n",
       "      <td>2019-05</td>\n",
       "    </tr>\n",
       "    <tr>\n",
       "      <th>...</th>\n",
       "      <td>...</td>\n",
       "      <td>...</td>\n",
       "      <td>...</td>\n",
       "      <td>...</td>\n",
       "      <td>...</td>\n",
       "      <td>...</td>\n",
       "      <td>...</td>\n",
       "      <td>...</td>\n",
       "      <td>...</td>\n",
       "    </tr>\n",
       "    <tr>\n",
       "      <th>314309</th>\n",
       "      <td>Transfer</td>\n",
       "      <td>Outside_VIB</td>\n",
       "      <td>2019-09-23</td>\n",
       "      <td>Mon</td>\n",
       "      <td>10</td>\n",
       "      <td>12</td>\n",
       "      <td>7662000.0</td>\n",
       "      <td>747140</td>\n",
       "      <td>2019-09</td>\n",
       "    </tr>\n",
       "    <tr>\n",
       "      <th>314310</th>\n",
       "      <td>Transfer</td>\n",
       "      <td>Outside_VIB</td>\n",
       "      <td>2019-09-23</td>\n",
       "      <td>Mon</td>\n",
       "      <td>12</td>\n",
       "      <td>15</td>\n",
       "      <td>31340909.0</td>\n",
       "      <td>747140</td>\n",
       "      <td>2019-09</td>\n",
       "    </tr>\n",
       "    <tr>\n",
       "      <th>314311</th>\n",
       "      <td>Transfer</td>\n",
       "      <td>Outside_VIB</td>\n",
       "      <td>2019-09-24</td>\n",
       "      <td>Tue</td>\n",
       "      <td>10</td>\n",
       "      <td>1</td>\n",
       "      <td>50490000.0</td>\n",
       "      <td>747140</td>\n",
       "      <td>2019-09</td>\n",
       "    </tr>\n",
       "    <tr>\n",
       "      <th>314312</th>\n",
       "      <td>Transfer</td>\n",
       "      <td>Outside_VIB</td>\n",
       "      <td>2019-09-26</td>\n",
       "      <td>Thu</td>\n",
       "      <td>6</td>\n",
       "      <td>9</td>\n",
       "      <td>20037000.0</td>\n",
       "      <td>747140</td>\n",
       "      <td>2019-09</td>\n",
       "    </tr>\n",
       "    <tr>\n",
       "      <th>314313</th>\n",
       "      <td>Transfer</td>\n",
       "      <td>Outside_VIB</td>\n",
       "      <td>2019-09-25</td>\n",
       "      <td>Wed</td>\n",
       "      <td>23</td>\n",
       "      <td>4</td>\n",
       "      <td>10900000.0</td>\n",
       "      <td>747140</td>\n",
       "      <td>2019-09</td>\n",
       "    </tr>\n",
       "  </tbody>\n",
       "</table>\n",
       "<p>539 rows × 9 columns</p>\n",
       "</div>"
      ],
      "text/plain": [
       "       TRANS_LV1    TRANS_LV2  TRANS_DATE DAY_OF_WEEK  TRANS_HOUR  TRANS_NO  \\\n",
       "313775  Transfer  Outside_VIB  2019-05-12         Sun          21        15   \n",
       "313776  Transfer  Outside_VIB  2019-05-09         Thu          21         8   \n",
       "313777  Transfer  Outside_VIB  2019-05-11         Sat          20        14   \n",
       "313778  Transfer  Outside_VIB  2019-05-15         Wed          16        10   \n",
       "313779  Transfer  Outside_VIB  2019-05-16         Thu          20         1   \n",
       "...          ...          ...         ...         ...         ...       ...   \n",
       "314309  Transfer  Outside_VIB  2019-09-23         Mon          10        12   \n",
       "314310  Transfer  Outside_VIB  2019-09-23         Mon          12        15   \n",
       "314311  Transfer  Outside_VIB  2019-09-24         Tue          10         1   \n",
       "314312  Transfer  Outside_VIB  2019-09-26         Thu           6         9   \n",
       "314313  Transfer  Outside_VIB  2019-09-25         Wed          23         4   \n",
       "\n",
       "        TRANS_AMOUNT  CUSTOMER_NUMBER  MONTHLY  \n",
       "313775    73754200.0           747140  2019-05  \n",
       "313776    23210000.0           747140  2019-05  \n",
       "313777   116023900.0           747140  2019-05  \n",
       "313778    41980150.0           747140  2019-05  \n",
       "313779     4950000.0           747140  2019-05  \n",
       "...              ...              ...      ...  \n",
       "314309     7662000.0           747140  2019-09  \n",
       "314310    31340909.0           747140  2019-09  \n",
       "314311    50490000.0           747140  2019-09  \n",
       "314312    20037000.0           747140  2019-09  \n",
       "314313    10900000.0           747140  2019-09  \n",
       "\n",
       "[539 rows x 9 columns]"
      ]
     },
     "execution_count": 93,
     "metadata": {},
     "output_type": "execute_result"
    }
   ],
   "source": [
    "trans.query('CUSTOMER_NUMBER==747140')"
   ]
  },
  {
   "cell_type": "code",
   "execution_count": 28,
   "id": "f8964a02-1fdd-4542-8f0d-2744c2eb374d",
   "metadata": {},
   "outputs": [
    {
     "data": {
      "text/plain": [
       "dtype('O')"
      ]
     },
     "execution_count": 28,
     "metadata": {},
     "output_type": "execute_result"
    }
   ],
   "source": [
    "trans.TRANS_DATE.dtype"
   ]
  },
  {
   "cell_type": "code",
   "execution_count": 29,
   "id": "36801272-978f-4324-8293-573e08ebb544",
   "metadata": {},
   "outputs": [
    {
     "data": {
      "text/plain": [
       "TRANS_LV1          0\n",
       "TRANS_LV2          0\n",
       "TRANS_DATE         0\n",
       "DAY_OF_WEEK        0\n",
       "TRANS_HOUR         0\n",
       "TRANS_NO           0\n",
       "TRANS_AMOUNT       0\n",
       "CUSTOMER_NUMBER    0\n",
       "dtype: int64"
      ]
     },
     "execution_count": 29,
     "metadata": {},
     "output_type": "execute_result"
    }
   ],
   "source": [
    "trans.isnull().sum()"
   ]
  },
  {
   "cell_type": "code",
   "execution_count": 30,
   "id": "e2257671-e72d-48c6-91d2-7dab9f20b17e",
   "metadata": {},
   "outputs": [],
   "source": [
    "trans['MONTHLY'] = trans.TRANS_DATE.apply(lambda x: x[:7])"
   ]
  },
  {
   "cell_type": "code",
   "execution_count": 36,
   "id": "dfd2fc4b-3ff9-4221-b947-44d33861e5dc",
   "metadata": {},
   "outputs": [
    {
     "data": {
      "image/png": "[encoded data removed]",
      "text/plain": [
       "<Figure size 432x288 with 1 Axes>"
      ]
     },
     "metadata": {
      "needs_background": "light"
     },
     "output_type": "display_data"
    }
   ],
   "source": [
    "(\n",
    "    trans\n",
    "    .groupby('MONTHLY')\n",
    "    .TRANS_NO\n",
    "    .sum()\n",
    "    .plot\n",
    "    .bar()\n",
    ");"
   ]
  },
  {
   "cell_type": "code",
   "execution_count": 85,
   "id": "e9e71125-1aa1-4fae-a5b1-c7d088069503",
   "metadata": {},
   "outputs": [
    {
     "data": {
      "text/html": [
       "<div>\n",
       "<style scoped>\n",
       "    .dataframe tbody tr th:only-of-type {\n",
       "        vertical-align: middle;\n",
       "    }\n",
       "\n",
       "    .dataframe tbody tr th {\n",
       "        vertical-align: top;\n",
       "    }\n",
       "\n",
       "    .dataframe thead th {\n",
       "        text-align: right;\n",
       "    }\n",
       "</style>\n",
       "<table border=\"1\" class=\"dataframe\">\n",
       "  <thead>\n",
       "    <tr style=\"text-align: right;\">\n",
       "      <th></th>\n",
       "      <th>ACTIVITY_DATE</th>\n",
       "      <th>DAY_OF_WEEK</th>\n",
       "      <th>ACTIVITY_HOUR</th>\n",
       "      <th>ACTIVITY_NO</th>\n",
       "      <th>CUSTOMER_NUMBER</th>\n",
       "      <th>ACTIVITY_NAME</th>\n",
       "    </tr>\n",
       "  </thead>\n",
       "  <tbody>\n",
       "    <tr>\n",
       "      <th>0</th>\n",
       "      <td>1/22/2019</td>\n",
       "      <td>Tue</td>\n",
       "      <td>20</td>\n",
       "      <td>2</td>\n",
       "      <td>630178</td>\n",
       "      <td>MB_INTEREST_RATE_VIEW</td>\n",
       "    </tr>\n",
       "    <tr>\n",
       "      <th>1</th>\n",
       "      <td>1/10/2019</td>\n",
       "      <td>Thu</td>\n",
       "      <td>18</td>\n",
       "      <td>16</td>\n",
       "      <td>630178</td>\n",
       "      <td>MB_INTEREST_RATE_VIEW</td>\n",
       "    </tr>\n",
       "    <tr>\n",
       "      <th>2</th>\n",
       "      <td>1/26/2019</td>\n",
       "      <td>Sat</td>\n",
       "      <td>17</td>\n",
       "      <td>15</td>\n",
       "      <td>630178</td>\n",
       "      <td>MB_INTEREST_RATE_VIEW</td>\n",
       "    </tr>\n",
       "    <tr>\n",
       "      <th>3</th>\n",
       "      <td>1/2/2019</td>\n",
       "      <td>Wed</td>\n",
       "      <td>9</td>\n",
       "      <td>27</td>\n",
       "      <td>630178</td>\n",
       "      <td>MB_INTEREST_RATE_VIEW</td>\n",
       "    </tr>\n",
       "    <tr>\n",
       "      <th>4</th>\n",
       "      <td>1/19/2019</td>\n",
       "      <td>Sat</td>\n",
       "      <td>8</td>\n",
       "      <td>3</td>\n",
       "      <td>630178</td>\n",
       "      <td>MB_INTEREST_RATE_VIEW</td>\n",
       "    </tr>\n",
       "  </tbody>\n",
       "</table>\n",
       "</div>"
      ],
      "text/plain": [
       "  ACTIVITY_DATE DAY_OF_WEEK  ACTIVITY_HOUR  ACTIVITY_NO  CUSTOMER_NUMBER  \\\n",
       "0     1/22/2019         Tue             20            2           630178   \n",
       "1     1/10/2019         Thu             18           16           630178   \n",
       "2     1/26/2019         Sat             17           15           630178   \n",
       "3      1/2/2019         Wed              9           27           630178   \n",
       "4     1/19/2019         Sat              8            3           630178   \n",
       "\n",
       "           ACTIVITY_NAME  \n",
       "0  MB_INTEREST_RATE_VIEW  \n",
       "1  MB_INTEREST_RATE_VIEW  \n",
       "2  MB_INTEREST_RATE_VIEW  \n",
       "3  MB_INTEREST_RATE_VIEW  \n",
       "4  MB_INTEREST_RATE_VIEW  "
      ]
     },
     "execution_count": 85,
     "metadata": {},
     "output_type": "execute_result"
    }
   ],
   "source": [
    "active = pd.read_csv('3.Data_MyVIB_Activity.csv')\n",
    "active.head()"
   ]
  },
  {
   "cell_type": "code",
   "execution_count": 86,
   "id": "bd316ad6-d929-4e49-8adb-e58acf69cdda",
   "metadata": {},
   "outputs": [
    {
     "data": {
      "text/plain": [
       "LOGIN                            3638224\n",
       "LOGOUT                           3499251\n",
       "QUERY_ACCOUNT_INFORMATION        2566128\n",
       "MB_INTEREST_RATE_VIEW            2448877\n",
       "TRANSACTION_OVERVIEW_QUERY       1079162\n",
       "LOGIN_FINGER                      784355\n",
       "TRANSFER_VIA_SML                  679219\n",
       "LOGIN_FACEID                      237933\n",
       "TRANSFER_VIB_ACCOUNT              216639\n",
       "TOPUP_MOBILE                      206441\n",
       "MB_LOCATION_POS_VIEW              184072\n",
       "MB_ACCOUNT_QUICK_BALANCE          170850\n",
       "AUTHENTICATION                    144475\n",
       "MB_SET_PIN                         69744\n",
       "MB_BILLPAY                         34703\n",
       "TRANSFER_VIA_PAYMENT_CENTER        31443\n",
       "MB_LOCATION_BRANCH_VIEW            28239\n",
       "CHANGE_PASSWORD                    26410\n",
       "TRANSFER_VIA_SML_ACCOUNT           20358\n",
       "MB_LOCATION_ATM_VIEW               17996\n",
       "TRANSACTION_DETAIL_QUERY           15658\n",
       "MB_CHANGE_PIN                       8028\n",
       "MB_RESET_PIN                        7496\n",
       "MB_EXCHANGE_RATE_VIEW               5618\n",
       "QUERY_CURRENT_ACCOUNT               5224\n",
       "CARD_EGIFT_REGISTER_CASHBACK        5002\n",
       "RB_BILLPAY_INSURANCE                 201\n",
       "QUERY_MM_ACCOUNT                     176\n",
       "CARD_EGIFT_REGISTER_REDEEM           142\n",
       "SET_PASSWORD                         103\n",
       "QUERY_LOAN_ACCOUNT                    91\n",
       "CARD_EGIFT_REGISTER_ANNUALFEE         69\n",
       "TRANSFER_INTERNATIONAL                59\n",
       "ACCOUNT_ADDRESS_BOOK_UPDATE           54\n",
       "RB_BILLPAY_MOBILE                     49\n",
       "TRANSFER_VIB_ACCOUNT_BULK             41\n",
       "RB_BILLPAY_WATER                      40\n",
       "ACCOUNT_ADDRESS_BOOK_DELETE           29\n",
       "QUERY_ACCOUNT_PORFOLIO                23\n",
       "RB_BILLPAY_ADSL                       18\n",
       "RB_BILLPAY_TELECOMMUNICATIONS         14\n",
       "TRANSFER_VIA_PHONENO                   9\n",
       "RB_BILLPAY_HOMEPHONE                   7\n",
       "EXPORT_ACCOUNT_STATEMENT_LOAN          3\n",
       "RB_BILLPAY_PSTN                        2\n",
       "Name: ACTIVITY_NAME, dtype: int64"
      ]
     },
     "execution_count": 86,
     "metadata": {},
     "output_type": "execute_result"
    }
   ],
   "source": [
    "active.ACTIVITY_NAME.value_counts()"
   ]
  },
  {
   "cell_type": "code",
   "execution_count": 105,
   "id": "0f428bd3-1a54-4fed-8e03-0c240013ee1c",
   "metadata": {},
   "outputs": [],
   "source": [
    "from datetime import datetime"
   ]
  },
  {
   "cell_type": "code",
   "execution_count": 108,
   "id": "9737eaa2-fbb7-4e0e-acf8-4d5eb7f32e90",
   "metadata": {},
   "outputs": [],
   "source": [
    "active['ACTIVITY_DATE'] = active.ACTIVITY_DATE.apply(lambda x: datetime.strptime(x,'%m/%d/%Y'))"
   ]
  },
  {
   "cell_type": "code",
   "execution_count": 111,
   "id": "0859deb4-beb6-4697-a960-745f5e3d3704",
   "metadata": {},
   "outputs": [],
   "source": [
    "active['MONTHLY'] = active.ACTIVITY_DATE.apply(lambda x: datetime.strftime(x,'%Y%m'))"
   ]
  },
  {
   "cell_type": "code",
   "execution_count": 112,
   "id": "dca5e4ae-08a3-4e6c-9d55-583005c9e598",
   "metadata": {},
   "outputs": [
    {
     "data": {
      "text/html": [
       "<div>\n",
       "<style scoped>\n",
       "    .dataframe tbody tr th:only-of-type {\n",
       "        vertical-align: middle;\n",
       "    }\n",
       "\n",
       "    .dataframe tbody tr th {\n",
       "        vertical-align: top;\n",
       "    }\n",
       "\n",
       "    .dataframe thead th {\n",
       "        text-align: right;\n",
       "    }\n",
       "</style>\n",
       "<table border=\"1\" class=\"dataframe\">\n",
       "  <thead>\n",
       "    <tr style=\"text-align: right;\">\n",
       "      <th></th>\n",
       "      <th>ACTIVITY_DATE</th>\n",
       "      <th>DAY_OF_WEEK</th>\n",
       "      <th>ACTIVITY_HOUR</th>\n",
       "      <th>ACTIVITY_NO</th>\n",
       "      <th>CUSTOMER_NUMBER</th>\n",
       "      <th>ACTIVITY_NAME</th>\n",
       "      <th>MONTHLY</th>\n",
       "    </tr>\n",
       "  </thead>\n",
       "  <tbody>\n",
       "    <tr>\n",
       "      <th>0</th>\n",
       "      <td>2019-01-22</td>\n",
       "      <td>Tue</td>\n",
       "      <td>20</td>\n",
       "      <td>2</td>\n",
       "      <td>630178</td>\n",
       "      <td>MB_INTEREST_RATE_VIEW</td>\n",
       "      <td>201901</td>\n",
       "    </tr>\n",
       "    <tr>\n",
       "      <th>1</th>\n",
       "      <td>2019-01-10</td>\n",
       "      <td>Thu</td>\n",
       "      <td>18</td>\n",
       "      <td>16</td>\n",
       "      <td>630178</td>\n",
       "      <td>MB_INTEREST_RATE_VIEW</td>\n",
       "      <td>201901</td>\n",
       "    </tr>\n",
       "    <tr>\n",
       "      <th>2</th>\n",
       "      <td>2019-01-26</td>\n",
       "      <td>Sat</td>\n",
       "      <td>17</td>\n",
       "      <td>15</td>\n",
       "      <td>630178</td>\n",
       "      <td>MB_INTEREST_RATE_VIEW</td>\n",
       "      <td>201901</td>\n",
       "    </tr>\n",
       "    <tr>\n",
       "      <th>3</th>\n",
       "      <td>2019-01-02</td>\n",
       "      <td>Wed</td>\n",
       "      <td>9</td>\n",
       "      <td>27</td>\n",
       "      <td>630178</td>\n",
       "      <td>MB_INTEREST_RATE_VIEW</td>\n",
       "      <td>201901</td>\n",
       "    </tr>\n",
       "    <tr>\n",
       "      <th>4</th>\n",
       "      <td>2019-01-19</td>\n",
       "      <td>Sat</td>\n",
       "      <td>8</td>\n",
       "      <td>3</td>\n",
       "      <td>630178</td>\n",
       "      <td>MB_INTEREST_RATE_VIEW</td>\n",
       "      <td>201901</td>\n",
       "    </tr>\n",
       "    <tr>\n",
       "      <th>...</th>\n",
       "      <td>...</td>\n",
       "      <td>...</td>\n",
       "      <td>...</td>\n",
       "      <td>...</td>\n",
       "      <td>...</td>\n",
       "      <td>...</td>\n",
       "      <td>...</td>\n",
       "    </tr>\n",
       "    <tr>\n",
       "      <th>16132670</th>\n",
       "      <td>2019-11-01</td>\n",
       "      <td>Fri</td>\n",
       "      <td>11</td>\n",
       "      <td>1</td>\n",
       "      <td>327258</td>\n",
       "      <td>TRANSFER_VIB_ACCOUNT_BULK</td>\n",
       "      <td>201911</td>\n",
       "    </tr>\n",
       "    <tr>\n",
       "      <th>16132671</th>\n",
       "      <td>2019-12-02</td>\n",
       "      <td>Mon</td>\n",
       "      <td>15</td>\n",
       "      <td>1</td>\n",
       "      <td>327258</td>\n",
       "      <td>TRANSFER_VIB_ACCOUNT_BULK</td>\n",
       "      <td>201912</td>\n",
       "    </tr>\n",
       "    <tr>\n",
       "      <th>16132672</th>\n",
       "      <td>2019-11-19</td>\n",
       "      <td>Tue</td>\n",
       "      <td>17</td>\n",
       "      <td>1</td>\n",
       "      <td>882344</td>\n",
       "      <td>TRANSFER_VIB_ACCOUNT_BULK</td>\n",
       "      <td>201911</td>\n",
       "    </tr>\n",
       "    <tr>\n",
       "      <th>16132673</th>\n",
       "      <td>2019-11-13</td>\n",
       "      <td>Wed</td>\n",
       "      <td>10</td>\n",
       "      <td>5</td>\n",
       "      <td>199908</td>\n",
       "      <td>RB_BILLPAY_PSTN</td>\n",
       "      <td>201911</td>\n",
       "    </tr>\n",
       "    <tr>\n",
       "      <th>16132674</th>\n",
       "      <td>2019-12-10</td>\n",
       "      <td>Tue</td>\n",
       "      <td>11</td>\n",
       "      <td>6</td>\n",
       "      <td>199908</td>\n",
       "      <td>RB_BILLPAY_PSTN</td>\n",
       "      <td>201912</td>\n",
       "    </tr>\n",
       "  </tbody>\n",
       "</table>\n",
       "<p>16132675 rows × 7 columns</p>\n",
       "</div>"
      ],
      "text/plain": [
       "         ACTIVITY_DATE DAY_OF_WEEK  ACTIVITY_HOUR  ACTIVITY_NO  \\\n",
       "0           2019-01-22         Tue             20            2   \n",
       "1           2019-01-10         Thu             18           16   \n",
       "2           2019-01-26         Sat             17           15   \n",
       "3           2019-01-02         Wed              9           27   \n",
       "4           2019-01-19         Sat              8            3   \n",
       "...                ...         ...            ...          ...   \n",
       "16132670    2019-11-01         Fri             11            1   \n",
       "16132671    2019-12-02         Mon             15            1   \n",
       "16132672    2019-11-19         Tue             17            1   \n",
       "16132673    2019-11-13         Wed             10            5   \n",
       "16132674    2019-12-10         Tue             11            6   \n",
       "\n",
       "          CUSTOMER_NUMBER              ACTIVITY_NAME MONTHLY  \n",
       "0                  630178      MB_INTEREST_RATE_VIEW  201901  \n",
       "1                  630178      MB_INTEREST_RATE_VIEW  201901  \n",
       "2                  630178      MB_INTEREST_RATE_VIEW  201901  \n",
       "3                  630178      MB_INTEREST_RATE_VIEW  201901  \n",
       "4                  630178      MB_INTEREST_RATE_VIEW  201901  \n",
       "...                   ...                        ...     ...  \n",
       "16132670           327258  TRANSFER_VIB_ACCOUNT_BULK  201911  \n",
       "16132671           327258  TRANSFER_VIB_ACCOUNT_BULK  201912  \n",
       "16132672           882344  TRANSFER_VIB_ACCOUNT_BULK  201911  \n",
       "16132673           199908            RB_BILLPAY_PSTN  201911  \n",
       "16132674           199908            RB_BILLPAY_PSTN  201912  \n",
       "\n",
       "[16132675 rows x 7 columns]"
      ]
     },
     "execution_count": 112,
     "metadata": {},
     "output_type": "execute_result"
    }
   ],
   "source": [
    "active"
   ]
  },
  {
   "cell_type": "code",
   "execution_count": 118,
   "id": "a953d577-afd8-4bff-ac00-e0c4b2e1c9a3",
   "metadata": {},
   "outputs": [
    {
     "data": {
      "text/plain": [
       "DAY_OF_WEEK\n",
       "Fri    5695089\n",
       "Mon    5522257\n",
       "Sat    4461558\n",
       "Sun    3145225\n",
       "Thu    5217465\n",
       "Tue    5480067\n",
       "Wed    5217316\n",
       "Name: ACTIVITY_NO, dtype: int64"
      ]
     },
     "execution_count": 118,
     "metadata": {},
     "output_type": "execute_result"
    }
   ],
   "source": [
    "(\n",
    "    active\n",
    "    .groupby(['DAY_OF_WEEK'])\n",
    "    .ACTIVITY_NO\n",
    "    .sum()\n",
    ")"
   ]
  },
  {
   "cell_type": "code",
   "execution_count": 119,
   "id": "8ac3dbed-f128-47f6-96c8-9846b54156d2",
   "metadata": {},
   "outputs": [
    {
     "data": {
      "image/png": "[encoded data removed]",
      "text/plain": [
       "<Figure size 720x432 with 1 Axes>"
      ]
     },
     "metadata": {
      "needs_background": "light"
     },
     "output_type": "display_data"
    }
   ],
   "source": [
    "dic = pd.Series({'Thứ 2':5522257, 'Thứ 3':5480067,'Thứ 4': 5217316, 'Thứ 5':5217465, 'Thứ 6': 5695089, 'Thứ 7':  4461558, 'Chủ Nhật': 3145225 })\n",
    "dic.plot(figsize=(10,6));"
   ]
  },
  {
   "cell_type": "code",
   "execution_count": 114,
   "id": "a6481aef-7a24-4566-8bf3-d34686ca7126",
   "metadata": {},
   "outputs": [
    {
     "data": {
      "image/png": "[encoded data removed]",
      "text/plain": [
       "<Figure size 1080x504 with 1 Axes>"
      ]
     },
     "metadata": {
      "needs_background": "light"
     },
     "output_type": "display_data"
    }
   ],
   "source": [
    "(\n",
    "    active\n",
    "    .groupby(['MONTHLY','DAY_OF_WEEK'])\n",
    "    .ACTIVITY_NO\n",
    "    .sum()\n",
    "    .unstack('DAY_OF_WEEK')\n",
    "    .plot\n",
    "    .bar(stacked=True, figsize=(15,7))\n",
    ")\n",
    "plt.legend(['Thứ 6', 'Thứ hai', 'Thứ 7', 'Chủ Nhật', 'Thứ 5', 'Thứ 3', 'Thứ 4'])\n",
    "plt.xlabel('Tháng');"
   ]
  },
  {
   "cell_type": "code",
   "execution_count": 121,
   "id": "c41444c4-01bb-49d2-a921-1e31d0f49f46",
   "metadata": {},
   "outputs": [
    {
     "data": {
      "text/plain": [
       "count    77741.000000\n",
       "mean        96.935392\n",
       "std        126.357949\n",
       "min          1.000000\n",
       "25%         32.000000\n",
       "50%         63.400000\n",
       "75%        118.000000\n",
       "max       6002.000000\n",
       "Name: ACTIVITY_NO, dtype: float64"
      ]
     },
     "execution_count": 121,
     "metadata": {},
     "output_type": "execute_result"
    }
   ],
   "source": [
    "(\n",
    "    active\n",
    "    .groupby(['CUSTOMER_NUMBER','MONTHLY'])\n",
    "    .ACTIVITY_NO\n",
    "    .sum()\n",
    "    .groupby('CUSTOMER_NUMBER')\n",
    "    .mean()\n",
    "    .describe()\n",
    ")"
   ]
  },
  {
   "cell_type": "code",
   "execution_count": null,
   "id": "e2c71349-8217-4bd1-a2e3-f75d945a706f",
   "metadata": {},
   "outputs": [],
   "source": []
  }
 ],
 "metadata": {
  "kernelspec": {
   "display_name": "Python 3",
   "language": "python",
   "name": "python3"
  },
  "language_info": {
   "codemirror_mode": {
    "name": "ipython",
    "version": 3
   },
   "file_extension": ".py",
   "mimetype": "text/x-python",
   "name": "python",
   "nbconvert_exporter": "python",
   "pygments_lexer": "ipython3",
   "version": "3.7.10"
  }
 },
 "nbformat": 4,
 "nbformat_minor": 5
}
